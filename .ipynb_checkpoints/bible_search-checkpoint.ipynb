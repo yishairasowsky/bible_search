{
 "cells": [
  {
   "cell_type": "markdown",
   "metadata": {},
   "source": [
    "![Torah Scroll](torah.png \"Torah Scroll\")"
   ]
  },
  {
   "cell_type": "markdown",
   "metadata": {},
   "source": [
    "# **Bible Search**\n",
    "Find verses similar to yours!"
   ]
  },
  {
   "cell_type": "markdown",
   "metadata": {},
   "source": [
    "## Intro\n",
    "You provide the Book, chapter, and verse of your chosen passage. \n",
    "\n",
    "Machine provides a ranked list of other most similar verses."
   ]
  },
  {
   "cell_type": "markdown",
   "metadata": {},
   "source": [
    "## Libraries"
   ]
  },
  {
   "cell_type": "code",
   "execution_count": 40,
   "metadata": {},
   "outputs": [],
   "source": [
    "from os import listdir # list all files in a directory\n",
    "import os\n",
    "import pandas as pd # data manipulation"
   ]
  },
  {
   "cell_type": "markdown",
   "metadata": {},
   "source": [
    "## Data"
   ]
  },
  {
   "cell_type": "markdown",
   "metadata": {},
   "source": [
    "First, let us examine what files we have to work with..."
   ]
  },
  {
   "cell_type": "code",
   "execution_count": 42,
   "metadata": {
    "scrolled": true
   },
   "outputs": [
    {
     "data": {
      "text/plain": [
       "['bible_databases-master',\n",
       " 'bible_version_key.csv',\n",
       " 'key_abbreviations_english.csv',\n",
       " 'key_english.csv',\n",
       " 'key_genre_english.csv',\n",
       " 't_asv.csv',\n",
       " 't_bbe.csv',\n",
       " 't_dby.csv',\n",
       " 't_kjv.csv',\n",
       " 't_wbt.csv',\n",
       " 't_web.csv',\n",
       " 't_ylt.csv']"
      ]
     },
     "execution_count": 42,
     "metadata": {},
     "output_type": "execute_result"
    }
   ],
   "source": [
    "PATH = \"bible/\"\n",
    "listdir(PATH)"
   ]
  },
  {
   "cell_type": "markdown",
   "metadata": {},
   "source": [
    "I will use two of these files.\n",
    "1. The `key_english.csv`, which lists and numbers the biblical book names; and \n",
    "2. The `t_kjv.csv`, which lists and numbers all biblical verses."
   ]
  },
  {
   "cell_type": "markdown",
   "metadata": {},
   "source": [
    "## Books"
   ]
  },
  {
   "cell_type": "markdown",
   "metadata": {},
   "source": [
    "Let us list the books of the bible by name and number."
   ]
  },
  {
   "cell_type": "code",
   "execution_count": 45,
   "metadata": {},
   "outputs": [
    {
     "data": {
      "text/html": [
       "<div>\n",
       "<style scoped>\n",
       "    .dataframe tbody tr th:only-of-type {\n",
       "        vertical-align: middle;\n",
       "    }\n",
       "\n",
       "    .dataframe tbody tr th {\n",
       "        vertical-align: top;\n",
       "    }\n",
       "\n",
       "    .dataframe thead th {\n",
       "        text-align: right;\n",
       "    }\n",
       "</style>\n",
       "<table border=\"1\" class=\"dataframe\">\n",
       "  <thead>\n",
       "    <tr style=\"text-align: right;\">\n",
       "      <th></th>\n",
       "      <th>b</th>\n",
       "      <th>n</th>\n",
       "      <th>t</th>\n",
       "      <th>g</th>\n",
       "    </tr>\n",
       "  </thead>\n",
       "  <tbody>\n",
       "    <tr>\n",
       "      <th>35</th>\n",
       "      <td>36</td>\n",
       "      <td>Zephaniah</td>\n",
       "      <td>OT</td>\n",
       "      <td>4</td>\n",
       "    </tr>\n",
       "    <tr>\n",
       "      <th>36</th>\n",
       "      <td>37</td>\n",
       "      <td>Haggai</td>\n",
       "      <td>OT</td>\n",
       "      <td>4</td>\n",
       "    </tr>\n",
       "    <tr>\n",
       "      <th>37</th>\n",
       "      <td>38</td>\n",
       "      <td>Zechariah</td>\n",
       "      <td>OT</td>\n",
       "      <td>4</td>\n",
       "    </tr>\n",
       "    <tr>\n",
       "      <th>38</th>\n",
       "      <td>39</td>\n",
       "      <td>Malachi</td>\n",
       "      <td>OT</td>\n",
       "      <td>4</td>\n",
       "    </tr>\n",
       "    <tr>\n",
       "      <th>39</th>\n",
       "      <td>40</td>\n",
       "      <td>Matthew</td>\n",
       "      <td>NT</td>\n",
       "      <td>5</td>\n",
       "    </tr>\n",
       "    <tr>\n",
       "      <th>40</th>\n",
       "      <td>41</td>\n",
       "      <td>Mark</td>\n",
       "      <td>NT</td>\n",
       "      <td>5</td>\n",
       "    </tr>\n",
       "    <tr>\n",
       "      <th>41</th>\n",
       "      <td>42</td>\n",
       "      <td>Luke</td>\n",
       "      <td>NT</td>\n",
       "      <td>5</td>\n",
       "    </tr>\n",
       "  </tbody>\n",
       "</table>\n",
       "</div>"
      ],
      "text/plain": [
       "     b          n   t  g\n",
       "35  36  Zephaniah  OT  4\n",
       "36  37     Haggai  OT  4\n",
       "37  38  Zechariah  OT  4\n",
       "38  39    Malachi  OT  4\n",
       "39  40    Matthew  NT  5\n",
       "40  41       Mark  NT  5\n",
       "41  42       Luke  NT  5"
      ]
     },
     "execution_count": 45,
     "metadata": {},
     "output_type": "execute_result"
    }
   ],
   "source": [
    "BOOKS = 'key_english.csv' # a constant, the file with book numbers\n",
    "df_books = pd.read_csv(PATH + BOOKS) # load data into dataframe \n",
    "df_books[35:42] # sampling of books near the point where Hebrew Bible ends and NT begins."
   ]
  },
  {
   "cell_type": "markdown",
   "metadata": {},
   "source": [
    "**Notice**: The books are labeled in column `t` as either Old or New Testament.\n",
    "\n",
    "**Preference**: I will work with only verses from the Hebrew Bible (OT)."
   ]
  },
  {
   "cell_type": "markdown",
   "metadata": {},
   "source": [
    "## Verses"
   ]
  },
  {
   "cell_type": "markdown",
   "metadata": {},
   "source": [
    "Load the verses into a dataframe. \n",
    "\n",
    "I will use the King James version. Hopefully I can use a real Hebrew version some day..."
   ]
  },
  {
   "cell_type": "code",
   "execution_count": 46,
   "metadata": {
    "scrolled": true
   },
   "outputs": [
    {
     "data": {
      "text/html": [
       "<div>\n",
       "<style scoped>\n",
       "    .dataframe tbody tr th:only-of-type {\n",
       "        vertical-align: middle;\n",
       "    }\n",
       "\n",
       "    .dataframe tbody tr th {\n",
       "        vertical-align: top;\n",
       "    }\n",
       "\n",
       "    .dataframe thead th {\n",
       "        text-align: right;\n",
       "    }\n",
       "</style>\n",
       "<table border=\"1\" class=\"dataframe\">\n",
       "  <thead>\n",
       "    <tr style=\"text-align: right;\">\n",
       "      <th></th>\n",
       "      <th>id</th>\n",
       "      <th>b</th>\n",
       "      <th>c</th>\n",
       "      <th>v</th>\n",
       "      <th>t</th>\n",
       "    </tr>\n",
       "  </thead>\n",
       "  <tbody>\n",
       "    <tr>\n",
       "      <th>4616</th>\n",
       "      <td>4029008</td>\n",
       "      <td>4</td>\n",
       "      <td>29</td>\n",
       "      <td>8</td>\n",
       "      <td>But ye shall offer a burnt offering unto the L...</td>\n",
       "    </tr>\n",
       "    <tr>\n",
       "      <th>23124</th>\n",
       "      <td>39003004</td>\n",
       "      <td>39</td>\n",
       "      <td>3</td>\n",
       "      <td>4</td>\n",
       "      <td>Then shall the offering of Judah and Jerusalem...</td>\n",
       "    </tr>\n",
       "    <tr>\n",
       "      <th>26163</th>\n",
       "      <td>43004007</td>\n",
       "      <td>43</td>\n",
       "      <td>4</td>\n",
       "      <td>7</td>\n",
       "      <td>There cometh a woman of Samaria to draw water:...</td>\n",
       "    </tr>\n",
       "    <tr>\n",
       "      <th>30193</th>\n",
       "      <td>58011021</td>\n",
       "      <td>58</td>\n",
       "      <td>11</td>\n",
       "      <td>21</td>\n",
       "      <td>By faith Jacob, when he was a dying, blessed b...</td>\n",
       "    </tr>\n",
       "    <tr>\n",
       "      <th>6775</th>\n",
       "      <td>7009021</td>\n",
       "      <td>7</td>\n",
       "      <td>9</td>\n",
       "      <td>21</td>\n",
       "      <td>And Jotham ran away, and fled, and went to Bee...</td>\n",
       "    </tr>\n",
       "  </tbody>\n",
       "</table>\n",
       "</div>"
      ],
      "text/plain": [
       "             id   b   c   v                                                  t\n",
       "4616    4029008   4  29   8  But ye shall offer a burnt offering unto the L...\n",
       "23124  39003004  39   3   4  Then shall the offering of Judah and Jerusalem...\n",
       "26163  43004007  43   4   7  There cometh a woman of Samaria to draw water:...\n",
       "30193  58011021  58  11  21  By faith Jacob, when he was a dying, blessed b...\n",
       "6775    7009021   7   9  21  And Jotham ran away, and fled, and went to Bee..."
      ]
     },
     "execution_count": 46,
     "metadata": {},
     "output_type": "execute_result"
    }
   ],
   "source": [
    "KING_JAMES = 't_kjv.csv' # name of finle with king james version of biblical verses\n",
    "df_verses = pd.read_csv(PATH + KING_JAMES) # load verses into dataframe\n",
    "df_verses.sample(5)"
   ]
  },
  {
   "cell_type": "markdown",
   "metadata": {},
   "source": [
    "## Select Hebrew Books"
   ]
  },
  {
   "cell_type": "markdown",
   "metadata": {},
   "source": [
    "I want the select only the verses in which the book, i.e. `df_verses['b']` has a `OT` in the testament column of the list of books, i.e. `df_books['t']`."
   ]
  },
  {
   "cell_type": "code",
   "execution_count": 47,
   "metadata": {},
   "outputs": [
    {
     "data": {
      "text/html": [
       "<div>\n",
       "<style scoped>\n",
       "    .dataframe tbody tr th:only-of-type {\n",
       "        vertical-align: middle;\n",
       "    }\n",
       "\n",
       "    .dataframe tbody tr th {\n",
       "        vertical-align: top;\n",
       "    }\n",
       "\n",
       "    .dataframe thead th {\n",
       "        text-align: right;\n",
       "    }\n",
       "</style>\n",
       "<table border=\"1\" class=\"dataframe\">\n",
       "  <thead>\n",
       "    <tr style=\"text-align: right;\">\n",
       "      <th></th>\n",
       "      <th>b</th>\n",
       "      <th>n</th>\n",
       "      <th>t</th>\n",
       "      <th>g</th>\n",
       "    </tr>\n",
       "  </thead>\n",
       "  <tbody>\n",
       "    <tr>\n",
       "      <th>34</th>\n",
       "      <td>35</td>\n",
       "      <td>Habakkuk</td>\n",
       "      <td>OT</td>\n",
       "      <td>4</td>\n",
       "    </tr>\n",
       "    <tr>\n",
       "      <th>35</th>\n",
       "      <td>36</td>\n",
       "      <td>Zephaniah</td>\n",
       "      <td>OT</td>\n",
       "      <td>4</td>\n",
       "    </tr>\n",
       "    <tr>\n",
       "      <th>36</th>\n",
       "      <td>37</td>\n",
       "      <td>Haggai</td>\n",
       "      <td>OT</td>\n",
       "      <td>4</td>\n",
       "    </tr>\n",
       "    <tr>\n",
       "      <th>37</th>\n",
       "      <td>38</td>\n",
       "      <td>Zechariah</td>\n",
       "      <td>OT</td>\n",
       "      <td>4</td>\n",
       "    </tr>\n",
       "    <tr>\n",
       "      <th>38</th>\n",
       "      <td>39</td>\n",
       "      <td>Malachi</td>\n",
       "      <td>OT</td>\n",
       "      <td>4</td>\n",
       "    </tr>\n",
       "  </tbody>\n",
       "</table>\n",
       "</div>"
      ],
      "text/plain": [
       "     b          n   t  g\n",
       "34  35   Habakkuk  OT  4\n",
       "35  36  Zephaniah  OT  4\n",
       "36  37     Haggai  OT  4\n",
       "37  38  Zechariah  OT  4\n",
       "38  39    Malachi  OT  4"
      ]
     },
     "execution_count": 47,
     "metadata": {},
     "output_type": "execute_result"
    }
   ],
   "source": [
    "heb_books = df_books.loc[df_books['t'] == 'OT']\n",
    "heb_books.tail(5)"
   ]
  },
  {
   "cell_type": "markdown",
   "metadata": {},
   "source": [
    "**Notice**: The Hebrew books go up to number 39. Let's exlude anything higher."
   ]
  },
  {
   "cell_type": "code",
   "execution_count": 57,
   "metadata": {},
   "outputs": [
    {
     "data": {
      "text/html": [
       "<div>\n",
       "<style scoped>\n",
       "    .dataframe tbody tr th:only-of-type {\n",
       "        vertical-align: middle;\n",
       "    }\n",
       "\n",
       "    .dataframe tbody tr th {\n",
       "        vertical-align: top;\n",
       "    }\n",
       "\n",
       "    .dataframe thead th {\n",
       "        text-align: right;\n",
       "    }\n",
       "</style>\n",
       "<table border=\"1\" class=\"dataframe\">\n",
       "  <thead>\n",
       "    <tr style=\"text-align: right;\">\n",
       "      <th></th>\n",
       "      <th>id</th>\n",
       "      <th>b</th>\n",
       "      <th>c</th>\n",
       "      <th>v</th>\n",
       "      <th>t</th>\n",
       "    </tr>\n",
       "  </thead>\n",
       "  <tbody>\n",
       "    <tr>\n",
       "      <th>23140</th>\n",
       "      <td>39004002</td>\n",
       "      <td>39</td>\n",
       "      <td>4</td>\n",
       "      <td>2</td>\n",
       "      <td>But unto you that fear my name shall the Sun o...</td>\n",
       "    </tr>\n",
       "    <tr>\n",
       "      <th>23141</th>\n",
       "      <td>39004003</td>\n",
       "      <td>39</td>\n",
       "      <td>4</td>\n",
       "      <td>3</td>\n",
       "      <td>And ye shall tread down the wicked; for they s...</td>\n",
       "    </tr>\n",
       "    <tr>\n",
       "      <th>23142</th>\n",
       "      <td>39004004</td>\n",
       "      <td>39</td>\n",
       "      <td>4</td>\n",
       "      <td>4</td>\n",
       "      <td>Remember ye the law of Moses my servant, which...</td>\n",
       "    </tr>\n",
       "    <tr>\n",
       "      <th>23143</th>\n",
       "      <td>39004005</td>\n",
       "      <td>39</td>\n",
       "      <td>4</td>\n",
       "      <td>5</td>\n",
       "      <td>Behold, I will send you Elijah the prophet bef...</td>\n",
       "    </tr>\n",
       "    <tr>\n",
       "      <th>23144</th>\n",
       "      <td>39004006</td>\n",
       "      <td>39</td>\n",
       "      <td>4</td>\n",
       "      <td>6</td>\n",
       "      <td>And he shall turn the heart of the fathers to ...</td>\n",
       "    </tr>\n",
       "  </tbody>\n",
       "</table>\n",
       "</div>"
      ],
      "text/plain": [
       "             id   b  c  v                                                  t\n",
       "23140  39004002  39  4  2  But unto you that fear my name shall the Sun o...\n",
       "23141  39004003  39  4  3  And ye shall tread down the wicked; for they s...\n",
       "23142  39004004  39  4  4  Remember ye the law of Moses my servant, which...\n",
       "23143  39004005  39  4  5  Behold, I will send you Elijah the prophet bef...\n",
       "23144  39004006  39  4  6  And he shall turn the heart of the fathers to ..."
      ]
     },
     "execution_count": 57,
     "metadata": {},
     "output_type": "execute_result"
    }
   ],
   "source": [
    "all_heb_verses = df_verses[df_verses['b']<=39]\n",
    "heb_verses = all_heb_verses[:23145]\n",
    "heb_verses.tail()\n",
    "all_heb_verses.shape\n",
    "all_heb_verses.tail()\n",
    "heb_verses.tail()"
   ]
  },
  {
   "cell_type": "markdown",
   "metadata": {},
   "source": [
    "## User Input"
   ]
  },
  {
   "cell_type": "markdown",
   "metadata": {},
   "source": [
    "Request the user to provide us the info about his chosen verse. \n",
    "\n",
    "First, glance at the chart of all books and their numbers."
   ]
  },
  {
   "cell_type": "code",
   "execution_count": 58,
   "metadata": {},
   "outputs": [
    {
     "data": {
      "text/html": [
       "<div>\n",
       "<style scoped>\n",
       "    .dataframe tbody tr th:only-of-type {\n",
       "        vertical-align: middle;\n",
       "    }\n",
       "\n",
       "    .dataframe tbody tr th {\n",
       "        vertical-align: top;\n",
       "    }\n",
       "\n",
       "    .dataframe thead th {\n",
       "        text-align: right;\n",
       "    }\n",
       "</style>\n",
       "<table border=\"1\" class=\"dataframe\">\n",
       "  <thead>\n",
       "    <tr style=\"text-align: right;\">\n",
       "      <th></th>\n",
       "      <th>b</th>\n",
       "      <th>n</th>\n",
       "    </tr>\n",
       "  </thead>\n",
       "  <tbody>\n",
       "    <tr>\n",
       "      <th>0</th>\n",
       "      <td>1</td>\n",
       "      <td>Genesis</td>\n",
       "    </tr>\n",
       "    <tr>\n",
       "      <th>1</th>\n",
       "      <td>2</td>\n",
       "      <td>Exodus</td>\n",
       "    </tr>\n",
       "    <tr>\n",
       "      <th>2</th>\n",
       "      <td>3</td>\n",
       "      <td>Leviticus</td>\n",
       "    </tr>\n",
       "    <tr>\n",
       "      <th>3</th>\n",
       "      <td>4</td>\n",
       "      <td>Numbers</td>\n",
       "    </tr>\n",
       "    <tr>\n",
       "      <th>4</th>\n",
       "      <td>5</td>\n",
       "      <td>Deuteronomy</td>\n",
       "    </tr>\n",
       "    <tr>\n",
       "      <th>5</th>\n",
       "      <td>6</td>\n",
       "      <td>Joshua</td>\n",
       "    </tr>\n",
       "    <tr>\n",
       "      <th>6</th>\n",
       "      <td>7</td>\n",
       "      <td>Judges</td>\n",
       "    </tr>\n",
       "    <tr>\n",
       "      <th>7</th>\n",
       "      <td>8</td>\n",
       "      <td>Ruth</td>\n",
       "    </tr>\n",
       "    <tr>\n",
       "      <th>8</th>\n",
       "      <td>9</td>\n",
       "      <td>1 Samuel</td>\n",
       "    </tr>\n",
       "    <tr>\n",
       "      <th>9</th>\n",
       "      <td>10</td>\n",
       "      <td>2 Samuel</td>\n",
       "    </tr>\n",
       "    <tr>\n",
       "      <th>10</th>\n",
       "      <td>11</td>\n",
       "      <td>1 Kings</td>\n",
       "    </tr>\n",
       "    <tr>\n",
       "      <th>11</th>\n",
       "      <td>12</td>\n",
       "      <td>2 Kings</td>\n",
       "    </tr>\n",
       "    <tr>\n",
       "      <th>12</th>\n",
       "      <td>13</td>\n",
       "      <td>1 Chronicles</td>\n",
       "    </tr>\n",
       "    <tr>\n",
       "      <th>13</th>\n",
       "      <td>14</td>\n",
       "      <td>2 Chronicles</td>\n",
       "    </tr>\n",
       "    <tr>\n",
       "      <th>14</th>\n",
       "      <td>15</td>\n",
       "      <td>Ezra</td>\n",
       "    </tr>\n",
       "    <tr>\n",
       "      <th>15</th>\n",
       "      <td>16</td>\n",
       "      <td>Nehemiah</td>\n",
       "    </tr>\n",
       "    <tr>\n",
       "      <th>16</th>\n",
       "      <td>17</td>\n",
       "      <td>Esther</td>\n",
       "    </tr>\n",
       "    <tr>\n",
       "      <th>17</th>\n",
       "      <td>18</td>\n",
       "      <td>Job</td>\n",
       "    </tr>\n",
       "    <tr>\n",
       "      <th>18</th>\n",
       "      <td>19</td>\n",
       "      <td>Psalms</td>\n",
       "    </tr>\n",
       "    <tr>\n",
       "      <th>19</th>\n",
       "      <td>20</td>\n",
       "      <td>Proverbs</td>\n",
       "    </tr>\n",
       "    <tr>\n",
       "      <th>20</th>\n",
       "      <td>21</td>\n",
       "      <td>Ecclesiastes</td>\n",
       "    </tr>\n",
       "    <tr>\n",
       "      <th>21</th>\n",
       "      <td>22</td>\n",
       "      <td>Song of Solomon</td>\n",
       "    </tr>\n",
       "    <tr>\n",
       "      <th>22</th>\n",
       "      <td>23</td>\n",
       "      <td>Isaiah</td>\n",
       "    </tr>\n",
       "    <tr>\n",
       "      <th>23</th>\n",
       "      <td>24</td>\n",
       "      <td>Jeremiah</td>\n",
       "    </tr>\n",
       "    <tr>\n",
       "      <th>24</th>\n",
       "      <td>25</td>\n",
       "      <td>Lamentations</td>\n",
       "    </tr>\n",
       "    <tr>\n",
       "      <th>25</th>\n",
       "      <td>26</td>\n",
       "      <td>Ezekiel</td>\n",
       "    </tr>\n",
       "    <tr>\n",
       "      <th>26</th>\n",
       "      <td>27</td>\n",
       "      <td>Daniel</td>\n",
       "    </tr>\n",
       "    <tr>\n",
       "      <th>27</th>\n",
       "      <td>28</td>\n",
       "      <td>Hosea</td>\n",
       "    </tr>\n",
       "    <tr>\n",
       "      <th>28</th>\n",
       "      <td>29</td>\n",
       "      <td>Joel</td>\n",
       "    </tr>\n",
       "    <tr>\n",
       "      <th>29</th>\n",
       "      <td>30</td>\n",
       "      <td>Amos</td>\n",
       "    </tr>\n",
       "    <tr>\n",
       "      <th>30</th>\n",
       "      <td>31</td>\n",
       "      <td>Obadiah</td>\n",
       "    </tr>\n",
       "    <tr>\n",
       "      <th>31</th>\n",
       "      <td>32</td>\n",
       "      <td>Jonah</td>\n",
       "    </tr>\n",
       "    <tr>\n",
       "      <th>32</th>\n",
       "      <td>33</td>\n",
       "      <td>Micah</td>\n",
       "    </tr>\n",
       "    <tr>\n",
       "      <th>33</th>\n",
       "      <td>34</td>\n",
       "      <td>Nahum</td>\n",
       "    </tr>\n",
       "    <tr>\n",
       "      <th>34</th>\n",
       "      <td>35</td>\n",
       "      <td>Habakkuk</td>\n",
       "    </tr>\n",
       "    <tr>\n",
       "      <th>35</th>\n",
       "      <td>36</td>\n",
       "      <td>Zephaniah</td>\n",
       "    </tr>\n",
       "    <tr>\n",
       "      <th>36</th>\n",
       "      <td>37</td>\n",
       "      <td>Haggai</td>\n",
       "    </tr>\n",
       "    <tr>\n",
       "      <th>37</th>\n",
       "      <td>38</td>\n",
       "      <td>Zechariah</td>\n",
       "    </tr>\n",
       "    <tr>\n",
       "      <th>38</th>\n",
       "      <td>39</td>\n",
       "      <td>Malachi</td>\n",
       "    </tr>\n",
       "  </tbody>\n",
       "</table>\n",
       "</div>"
      ],
      "text/plain": [
       "     b                n\n",
       "0    1          Genesis\n",
       "1    2           Exodus\n",
       "2    3        Leviticus\n",
       "3    4          Numbers\n",
       "4    5      Deuteronomy\n",
       "5    6           Joshua\n",
       "6    7           Judges\n",
       "7    8             Ruth\n",
       "8    9         1 Samuel\n",
       "9   10         2 Samuel\n",
       "10  11          1 Kings\n",
       "11  12          2 Kings\n",
       "12  13     1 Chronicles\n",
       "13  14     2 Chronicles\n",
       "14  15             Ezra\n",
       "15  16         Nehemiah\n",
       "16  17           Esther\n",
       "17  18              Job\n",
       "18  19           Psalms\n",
       "19  20         Proverbs\n",
       "20  21     Ecclesiastes\n",
       "21  22  Song of Solomon\n",
       "22  23           Isaiah\n",
       "23  24         Jeremiah\n",
       "24  25     Lamentations\n",
       "25  26          Ezekiel\n",
       "26  27           Daniel\n",
       "27  28            Hosea\n",
       "28  29             Joel\n",
       "29  30             Amos\n",
       "30  31          Obadiah\n",
       "31  32            Jonah\n",
       "32  33            Micah\n",
       "33  34            Nahum\n",
       "34  35         Habakkuk\n",
       "35  36        Zephaniah\n",
       "36  37           Haggai\n",
       "37  38        Zechariah\n",
       "38  39          Malachi"
      ]
     },
     "execution_count": 58,
     "metadata": {},
     "output_type": "execute_result"
    }
   ],
   "source": [
    "heb_books[['b','n']]"
   ]
  },
  {
   "cell_type": "code",
   "execution_count": 60,
   "metadata": {},
   "outputs": [
    {
     "data": {
      "text/plain": [
       "'Exodus'"
      ]
     },
     "execution_count": 60,
     "metadata": {},
     "output_type": "execute_result"
    }
   ],
   "source": [
    "def book_num_to_name(n):\n",
    "    \"\"\"\n",
    "    given the index, produce the book name\n",
    "    e.g. 1 results in genesis\n",
    "    \"\"\"\n",
    "    return heb_books.loc[ heb_books['b'] == n ]['n'].iloc[0]\n",
    "book_num_to_name(2) # for example the second book should be Exodus"
   ]
  },
  {
   "cell_type": "code",
   "execution_count": 61,
   "metadata": {},
   "outputs": [
    {
     "name": "stdout",
     "output_type": "stream",
     "text": [
      "What is the verse you chose? Type and press enter...\n"
     ]
    }
   ],
   "source": [
    "print('What is the verse you chose? Type and press enter...')"
   ]
  },
  {
   "cell_type": "code",
   "execution_count": 62,
   "metadata": {},
   "outputs": [
    {
     "name": "stdout",
     "output_type": "stream",
     "text": [
      "Book (select number from list above): 1\n",
      "Chapter: 1\n",
      "Verse: 1\n"
     ]
    },
    {
     "data": {
      "text/plain": [
       "{'book_num': 1, 'book_name': 'Genesis', 'chap': 1, 'verse': 1}"
      ]
     },
     "execution_count": 62,
     "metadata": {},
     "output_type": "execute_result"
    }
   ],
   "source": [
    "user = {}\n",
    "user['book_num'] = int(input('Book (select number from list above): '))\n",
    "user['book_name'] = book_num_to_name(int(user['book_num']))\n",
    "user['chap'] = int(input(\"Chapter: \"))\n",
    "user['verse'] = int(input(\"Verse: \"))\n",
    "user"
   ]
  },
  {
   "cell_type": "code",
   "execution_count": 64,
   "metadata": {},
   "outputs": [
    {
     "data": {
      "text/plain": [
       "{'num': 1, 'name': 'Genesis'}"
      ]
     },
     "execution_count": 64,
     "metadata": {},
     "output_type": "execute_result"
    }
   ],
   "source": [
    "def id_to_book(verse_id):\n",
    "    \"\"\"\n",
    "    given the verse id number (e.g. 1001001),\n",
    "    produce the book name;\n",
    "    e.g. 1001001 results in genesis    \n",
    "    \"\"\"\n",
    "    book_num = heb_verses.loc[heb_verses['id'] == verse_id]['b'].iloc[0]\n",
    "    book_name = book_num_to_name(book_num)\n",
    "    result = {}\n",
    "    result['num'] = book_num\n",
    "    result['name'] = book_name\n",
    "    return result\n",
    "id_to_book(1002001)"
   ]
  },
  {
   "cell_type": "code",
   "execution_count": 67,
   "metadata": {},
   "outputs": [
    {
     "data": {
      "text/plain": [
       "1001001"
      ]
     },
     "execution_count": 67,
     "metadata": {},
     "output_type": "execute_result"
    }
   ],
   "source": [
    "def ref_to_id(book,chap,verse):\n",
    "    \"\"\"\n",
    "    given the reference, i.e. book, chap, and verse numbers,\n",
    "    produce the verse id;\n",
    "    e.g. (1,1,1) results in 1001001\n",
    "    \"\"\"\n",
    "    return book*1000000 + chap*1000 + verse\n",
    "my_id = ref_to_id(user['book_num'],user['chap'],user['verse'])\n",
    "my_id"
   ]
  },
  {
   "cell_type": "code",
   "execution_count": 71,
   "metadata": {},
   "outputs": [
    {
     "data": {
      "text/html": [
       "<div>\n",
       "<style scoped>\n",
       "    .dataframe tbody tr th:only-of-type {\n",
       "        vertical-align: middle;\n",
       "    }\n",
       "\n",
       "    .dataframe tbody tr th {\n",
       "        vertical-align: top;\n",
       "    }\n",
       "\n",
       "    .dataframe thead th {\n",
       "        text-align: right;\n",
       "    }\n",
       "</style>\n",
       "<table border=\"1\" class=\"dataframe\">\n",
       "  <thead>\n",
       "    <tr style=\"text-align: right;\">\n",
       "      <th></th>\n",
       "      <th>id</th>\n",
       "      <th>b</th>\n",
       "      <th>c</th>\n",
       "      <th>v</th>\n",
       "      <th>t</th>\n",
       "    </tr>\n",
       "  </thead>\n",
       "  <tbody>\n",
       "    <tr>\n",
       "      <th>0</th>\n",
       "      <td>1001001</td>\n",
       "      <td>1</td>\n",
       "      <td>1</td>\n",
       "      <td>1</td>\n",
       "      <td>In the beginning God created the heaven and th...</td>\n",
       "    </tr>\n",
       "  </tbody>\n",
       "</table>\n",
       "</div>"
      ],
      "text/plain": [
       "        id  b  c  v                                                  t\n",
       "0  1001001  1  1  1  In the beginning God created the heaven and th..."
      ]
     },
     "execution_count": 71,
     "metadata": {},
     "output_type": "execute_result"
    }
   ],
   "source": [
    "def id_to_row(verse_id):\n",
    "    \"\"\"\n",
    "    given a verse id,\n",
    "    produce the row in the df of verses;\n",
    "    e.g. \n",
    "    \"\"\"\n",
    "    return heb_verses.loc[ heb_verses['id'] == verse_id ] # select the row of verses in which 'id' matches my_id\n",
    "my_row = id_to_row(my_id) # select the row of verses in which 'id' matches my_id\n",
    "my_row"
   ]
  },
  {
   "cell_type": "code",
   "execution_count": 73,
   "metadata": {},
   "outputs": [
    {
     "data": {
      "text/plain": [
       "'In the beginning God created the heaven and the earth.'"
      ]
     },
     "execution_count": 73,
     "metadata": {},
     "output_type": "execute_result"
    }
   ],
   "source": [
    "def row_to_verse(row):\n",
    "    \"\"\"\n",
    "    given row of verse df,\n",
    "    produce the verse in string format;\n",
    "    e.g. my_row results in \"In the beg...\"\n",
    "    \"\"\"\n",
    "    return row['t'].iloc[0] # the content of the text column of the row\n",
    "my_verse = row_to_verse(my_row)\n",
    "my_verse\n",
    "# print(type(my_verse))\n",
    "# print(my_verse)"
   ]
  },
  {
   "cell_type": "code",
   "execution_count": 43,
   "metadata": {},
   "outputs": [],
   "source": [
    "\"\"\"\n",
    "TF-IDF stands for Term Frequency Inverse Document Frequency.\n",
    "It is a a numerical statistic that reflects how important a word is to a document.\n",
    "\"\"\"\n",
    "from sklearn.feature_extraction.text import TfidfVectorizer # convert text set into a matrix\n",
    "from sklearn.metrics.pairwise import linear_kernel # "
   ]
  },
  {
   "cell_type": "code",
   "execution_count": 44,
   "metadata": {},
   "outputs": [],
   "source": [
    "# create an instance of the tf idf vectorizer\n",
    "tf = TfidfVectorizer(analyzer='word', # feature should be made of word (not character) n-grams\n",
    "                     ngram_range=(1, 3), # the inclusive range of n-values for different n-grams to be extracted\n",
    "                     min_df=0, # When building the vocabulary, ignore terms that have a document frequency strictly lower than this threshold\n",
    "                     stop_words='english' # passed to _check_stop_list and the appropriate stop list is returned\n",
    "                    ) "
   ]
  },
  {
   "cell_type": "code",
   "execution_count": 45,
   "metadata": {},
   "outputs": [],
   "source": [
    "# Learn vocabulary and idf\n",
    "# Return term-document matrix\n",
    "tfidf_matrix = tf.fit_transform(heb_verses['t']) "
   ]
  },
  {
   "cell_type": "code",
   "execution_count": 46,
   "metadata": {},
   "outputs": [],
   "source": [
    "cosine_similarities = linear_kernel(tfidf_matrix, tfidf_matrix) # dot product"
   ]
  },
  {
   "cell_type": "code",
   "execution_count": 47,
   "metadata": {},
   "outputs": [
    {
     "name": "stdout",
     "output_type": "stream",
     "text": [
      "done!\n"
     ]
    }
   ],
   "source": [
    "results = {}\n",
    "\"\"\"\n",
    "dict where each key is an id in the list of verses and \n",
    "the entry for that key is a ranked list of id's belonging to \n",
    "verses that are most simliar to the key\n",
    "\"\"\"\n",
    "for idx, row in heb_verses.iterrows(): # \n",
    "    similar_indices = cosine_similarities[idx].argsort()[:-100:-1] # numpy.ndarray\n",
    "    #print(type(similar_indices))\n",
    "    similar_rows = [(cosine_similarities[idx][i], heb_verses['id'][i]) for i in similar_indices] # list of \n",
    "    #print(type(similar_rows))\n",
    "    # First row is the row itself, so remove it.\n",
    "    # Each dictionary entry is like: [(1,2), (3,4)], with each tuple being (score, row_id)\n",
    "    results[row['id']] = similar_rows[1:]\n",
    "    \n",
    "print('done!')"
   ]
  },
  {
   "cell_type": "code",
   "execution_count": 48,
   "metadata": {},
   "outputs": [
    {
     "data": {
      "text/plain": [
       "'In the beginning God created the heaven and the earth.'"
      ]
     },
     "execution_count": 48,
     "metadata": {},
     "output_type": "execute_result"
    }
   ],
   "source": [
    "def get_verse_text(id):\n",
    "    \"\"\"\n",
    "    get the words of the verse, given the id\n",
    "    \"\"\"\n",
    "    return heb_verses.loc[heb_verses['id'] == id]['t'].values[0]\n",
    "get_verse_text(my_id)"
   ]
  },
  {
   "cell_type": "code",
   "execution_count": 49,
   "metadata": {},
   "outputs": [
    {
     "data": {
      "text/plain": [
       "11"
      ]
     },
     "execution_count": 49,
     "metadata": {},
     "output_type": "execute_result"
    }
   ],
   "source": [
    "def get_verse_num(verse_id):\n",
    "    return heb_verses.loc[heb_verses['id'] == verse_id]['v'].iloc[0]\n",
    "get_verse_num(1001011)"
   ]
  },
  {
   "cell_type": "code",
   "execution_count": 50,
   "metadata": {},
   "outputs": [
    {
     "data": {
      "text/plain": [
       "2"
      ]
     },
     "execution_count": 50,
     "metadata": {},
     "output_type": "execute_result"
    }
   ],
   "source": [
    "def get_chap(verse_id):\n",
    "    return heb_verses.loc[heb_verses['id'] == verse_id]['c'].iloc[0]\n",
    "get_chap(1002001)"
   ]
  },
  {
   "cell_type": "code",
   "execution_count": 51,
   "metadata": {},
   "outputs": [
    {
     "data": {
      "text/plain": [
       "1001001"
      ]
     },
     "execution_count": 51,
     "metadata": {},
     "output_type": "execute_result"
    }
   ],
   "source": [
    "def cit_to_id(book_num,chap,verse):\n",
    "    \"\"\"\n",
    "    given a book number, chap number, and verse number, produce the verse id\n",
    "    \"\"\" \n",
    "    return book_num*1000000 + chap*1000 + verse\n",
    "cit_to_id(1,1,1)"
   ]
  },
  {
   "cell_type": "code",
   "execution_count": 52,
   "metadata": {},
   "outputs": [
    {
     "data": {
      "text/plain": [
       "{'book_num': 1, 'book_name': 'Genesis', 'chap': 1, 'verse': 1}"
      ]
     },
     "execution_count": 52,
     "metadata": {},
     "output_type": "execute_result"
    }
   ],
   "source": [
    "user"
   ]
  },
  {
   "cell_type": "markdown",
   "metadata": {},
   "source": [
    "### Time to Recommend!"
   ]
  },
  {
   "cell_type": "code",
   "execution_count": 53,
   "metadata": {},
   "outputs": [
    {
     "name": "stdout",
     "output_type": "stream",
     "text": [
      "The top 6 similar verses to Genesis 1:1\n",
      "In the beginning God created the heaven and the earth.\n",
      "-------\n",
      "\n",
      "1.) 25% Genesis 1:27\n",
      "\n",
      "So God created man in his own image, in the image of God created he him; male and female created he them.\n",
      "\n",
      "2.) 13% Genesis 2:3\n",
      "\n",
      "And God blessed the seventh day, and sanctified it: because that in it he had rested from all his work which God created and made.\n",
      "\n",
      "3.) 13% Genesis 5:1\n",
      "\n",
      "This is the book of the generations of Adam. In the day that God created man, in the likeness of God made he him;\n",
      "\n",
      "4.) 11% Deuteronomy 4:32\n",
      "\n",
      "For ask now of the days that are past, which were before thee, since the day that God created man upon the earth, and ask from the one side of heaven unto the other, whether there hath been any such thing as this great thing is, or hath been heard like it?\n",
      "\n",
      "5.) 11% Genesis 5:2\n",
      "\n",
      "Male and female created he them; and blessed them, and called their name Adam, in the day when they were created.\n",
      "\n",
      "6.) 11% Deuteronomy 4:39\n",
      "\n",
      "Know therefore this day, and consider it in thine heart, that the LORD he is God in heaven above, and upon the earth beneath: there is none else.\n"
     ]
    }
   ],
   "source": [
    "# reads the results out of the dictionary\n",
    "def recommend(user, num):\n",
    "    verse_id = cit_to_id(user['book_num'],user['chap'],user['verse'])\n",
    "    print(\"The top {} similar verses to {} {}:{}\\n{}\".format(num, id_to_book(verse_id)['name'], get_chap(verse_id), get_verse_num(verse_id), get_verse_text(verse_id)))\n",
    "    print(\"-------\")\n",
    "    recs = results[verse_id][:num] # the top num items listed in the recomendations for this id\n",
    "    result = []\n",
    "    for rec in recs:        \n",
    "        rank = ''+str(recs.index(rec)+1)+'.)'\n",
    "        citation = rec[1]\n",
    "        book = id_to_book(citation)['name']\n",
    "        chap = get_chap(citation)\n",
    "        verse = get_verse_num(citation)\n",
    "        score = str(int(rec[0]*100))[:2]+ \"%\"\n",
    "        text = get_verse_text(rec[1])\n",
    "        print()\n",
    "        print(rank,score,book,str(chap)+':'+str(verse))\n",
    "        print()\n",
    "        print(text)\n",
    "recommend(user=user, num=6)"
   ]
  },
  {
   "cell_type": "code",
   "execution_count": null,
   "metadata": {},
   "outputs": [],
   "source": []
  },
  {
   "cell_type": "code",
   "execution_count": null,
   "metadata": {},
   "outputs": [],
   "source": []
  },
  {
   "cell_type": "code",
   "execution_count": null,
   "metadata": {},
   "outputs": [],
   "source": []
  },
  {
   "cell_type": "code",
   "execution_count": null,
   "metadata": {},
   "outputs": [],
   "source": []
  },
  {
   "cell_type": "code",
   "execution_count": null,
   "metadata": {},
   "outputs": [],
   "source": [
    "type(ds['t'].iloc[0])"
   ]
  },
  {
   "cell_type": "code",
   "execution_count": null,
   "metadata": {},
   "outputs": [],
   "source": [
    "ds['t'].iloc[0] == 'In the beginning God created the heaven and the earth.'"
   ]
  },
  {
   "cell_type": "code",
   "execution_count": null,
   "metadata": {},
   "outputs": [],
   "source": [
    "ds['t'][0]"
   ]
  },
  {
   "cell_type": "code",
   "execution_count": null,
   "metadata": {},
   "outputs": [],
   "source": [
    "df1 = ds.loc[ds['t']=='In the beginning God created the heaven and the earth.']\n",
    "df1.head()"
   ]
  },
  {
   "cell_type": "code",
   "execution_count": null,
   "metadata": {},
   "outputs": [],
   "source": [
    "ds.t.str.startswith('In')"
   ]
  },
  {
   "cell_type": "code",
   "execution_count": null,
   "metadata": {},
   "outputs": [],
   "source": [
    "# ds[ds.t.str.startswith('In')]"
   ]
  },
  {
   "cell_type": "code",
   "execution_count": null,
   "metadata": {},
   "outputs": [],
   "source": [
    "keyword = input(\"Type the word you'd like to find. Then press enter. Your choice: \")"
   ]
  },
  {
   "cell_type": "code",
   "execution_count": null,
   "metadata": {},
   "outputs": [],
   "source": [
    "keyword"
   ]
  },
  {
   "cell_type": "code",
   "execution_count": null,
   "metadata": {},
   "outputs": [],
   "source": [
    "df_search = ds[ds['t'].str.contains(keyword)]\n",
    "# ds[ds['t'].str.contains(\"song\")]"
   ]
  },
  {
   "cell_type": "code",
   "execution_count": null,
   "metadata": {},
   "outputs": [],
   "source": [
    "df_search.head()"
   ]
  },
  {
   "cell_type": "code",
   "execution_count": null,
   "metadata": {},
   "outputs": [],
   "source": [
    "df_search[:5]"
   ]
  },
  {
   "cell_type": "code",
   "execution_count": null,
   "metadata": {},
   "outputs": [],
   "source": [
    "book = book_id_to_name(citation)\n",
    "chap = get_chap(citation)\n",
    "verse = get_verse_num(citation)\n"
   ]
  },
  {
   "cell_type": "code",
   "execution_count": null,
   "metadata": {},
   "outputs": [],
   "source": [
    "print(\"These verses contain your keyword '{}'.\".format(keyword))\n",
    "print()\n",
    "for i in range(0,5):\n",
    "    print(str(i+1)+'.',df_search.iloc[i]['t'])\n",
    "    print()"
   ]
  },
  {
   "cell_type": "code",
   "execution_count": null,
   "metadata": {},
   "outputs": [],
   "source": []
  },
  {
   "cell_type": "code",
   "execution_count": null,
   "metadata": {},
   "outputs": [],
   "source": []
  },
  {
   "cell_type": "code",
   "execution_count": null,
   "metadata": {},
   "outputs": [],
   "source": []
  },
  {
   "cell_type": "code",
   "execution_count": null,
   "metadata": {},
   "outputs": [],
   "source": []
  },
  {
   "cell_type": "code",
   "execution_count": null,
   "metadata": {},
   "outputs": [],
   "source": []
  },
  {
   "cell_type": "code",
   "execution_count": null,
   "metadata": {},
   "outputs": [],
   "source": []
  }
 ],
 "metadata": {
  "kernelspec": {
   "display_name": "Python 3",
   "language": "python",
   "name": "python3"
  },
  "language_info": {
   "codemirror_mode": {
    "name": "ipython",
    "version": 3
   },
   "file_extension": ".py",
   "mimetype": "text/x-python",
   "name": "python",
   "nbconvert_exporter": "python",
   "pygments_lexer": "ipython3",
   "version": "3.7.3"
  }
 },
 "nbformat": 4,
 "nbformat_minor": 2
}
