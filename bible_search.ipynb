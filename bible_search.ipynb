{
 "cells": [
  {
   "cell_type": "markdown",
   "metadata": {},
   "source": [
    "![Torah Scroll](torah.png \"Torah Scroll\")"
   ]
  },
  {
   "cell_type": "markdown",
   "metadata": {},
   "source": [
    "# **Bible Search**\n",
    "Find verses similar to yours!"
   ]
  },
  {
   "cell_type": "markdown",
   "metadata": {},
   "source": [
    "## Intro\n",
    "You provide the Book, chapter, and verse of your chosen passage. \n",
    "\n",
    "Machine provides a ranked list of other most similar verses."
   ]
  },
  {
   "cell_type": "markdown",
   "metadata": {},
   "source": [
    "## Libraries"
   ]
  },
  {
   "cell_type": "code",
   "execution_count": 1,
   "metadata": {},
   "outputs": [],
   "source": [
    "from os import listdir # list all files in a directory\n",
    "import os\n",
    "import pandas as pd # data manipulation"
   ]
  },
  {
   "cell_type": "markdown",
   "metadata": {},
   "source": [
    "## Data"
   ]
  },
  {
   "cell_type": "markdown",
   "metadata": {},
   "source": [
    "First, let us examine what files we have to work with..."
   ]
  },
  {
   "cell_type": "code",
   "execution_count": 17,
   "metadata": {
    "scrolled": true
   },
   "outputs": [
    {
     "data": {
      "text/plain": [
       "['bible_databases-master',\n",
       " 'bible_version_key.csv',\n",
       " 'key_abbreviations_english.csv',\n",
       " 'key_english.csv',\n",
       " 'key_genre_english.csv',\n",
       " 't_asv.csv',\n",
       " 't_bbe.csv',\n",
       " 't_dby.csv',\n",
       " 't_kjv.csv',\n",
       " 't_wbt.csv',\n",
       " 't_web.csv',\n",
       " 't_ylt.csv']"
      ]
     },
     "execution_count": 17,
     "metadata": {},
     "output_type": "execute_result"
    }
   ],
   "source": [
    "BIB = \"bible/\"\n",
    "listdir(BIB)"
   ]
  },
  {
   "cell_type": "markdown",
   "metadata": {},
   "source": [
    "I will use two of these files.\n",
    "1. The `key_english.csv`, which lists and numbers the biblical book names; and \n",
    "2. The `t_kjv.csv`, which lists and numbers all biblical verses."
   ]
  },
  {
   "cell_type": "code",
   "execution_count": 19,
   "metadata": {},
   "outputs": [
    {
     "data": {
      "text/plain": [
       "['heb.csv']"
      ]
     },
     "execution_count": 19,
     "metadata": {},
     "output_type": "execute_result"
    }
   ],
   "source": [
    "TANACH = 'tanach/'\n",
    "listdir(TANACH)"
   ]
  },
  {
   "cell_type": "code",
   "execution_count": 34,
   "metadata": {},
   "outputs": [
    {
     "name": "stderr",
     "output_type": "stream",
     "text": [
      "b'Skipping line 19: expected 3 fields, saw 5\\nSkipping line 26: expected 3 fields, saw 16\\nSkipping line 33: expected 3 fields, saw 4\\nSkipping line 63: expected 3 fields, saw 4\\n'\n"
     ]
    },
    {
     "data": {
      "text/html": [
       "<div>\n",
       "<style scoped>\n",
       "    .dataframe tbody tr th:only-of-type {\n",
       "        vertical-align: middle;\n",
       "    }\n",
       "\n",
       "    .dataframe tbody tr th {\n",
       "        vertical-align: top;\n",
       "    }\n",
       "\n",
       "    .dataframe thead th {\n",
       "        text-align: right;\n",
       "    }\n",
       "</style>\n",
       "<table border=\"1\" class=\"dataframe\">\n",
       "  <thead>\n",
       "    <tr style=\"text-align: right;\">\n",
       "      <th></th>\n",
       "      <th></th>\n",
       "      <th>title;http://purl.org/dc/elements/1.1/;Hebrew Text Database ETCBC4</th>\n",
       "    </tr>\n",
       "  </thead>\n",
       "  <tbody>\n",
       "    <tr>\n",
       "      <th>creator;http://easy.dans.knaw.nl/easy/easymetadata/eas/;Peursen</th>\n",
       "      <th>Prof. Dr. W.T. van (ETCBC</th>\n",
       "      <td>VU Amsterdam)</td>\n",
       "    </tr>\n",
       "    <tr>\n",
       "      <th>subject;http://purl.org/dc/elements/1.1/;Ancient Hebrew;Hebrew Bible;Text Databases;Linguistic Annotation Framework</th>\n",
       "      <th>NaN</th>\n",
       "      <td>NaN</td>\n",
       "    </tr>\n",
       "    <tr>\n",
       "      <th>description;http://purl.org/dc/elements/1.1/;The ETCBC database of the Hebrew Bible (formerly known as WIVU database)</th>\n",
       "      <th>contains the scholarly text of the Hebrew Bible with linguistic markup.</th>\n",
       "      <td>NaN</td>\n",
       "    </tr>\n",
       "    <tr>\n",
       "      <th>A previous version can be found in EASY (see the link below).</th>\n",
       "      <th>NaN</th>\n",
       "      <td>NaN</td>\n",
       "    </tr>\n",
       "    <tr>\n",
       "      <th>The present dataset is an improvement in many ways:</th>\n",
       "      <th>NaN</th>\n",
       "      <td>NaN</td>\n",
       "    </tr>\n",
       "    <tr>\n",
       "      <th>(A) it contains a new version of the data</th>\n",
       "      <th>called ETCBC4.</th>\n",
       "      <td>NaN</td>\n",
       "    </tr>\n",
       "    <tr>\n",
       "      <th>The content has been heavily updated</th>\n",
       "      <th>with new linguistic annotations and a better organisation of them</th>\n",
       "      <td>and lots of additions and corrections as well.</td>\n",
       "    </tr>\n",
       "    <tr>\n",
       "      <th>(B) the data format is now Linguistic Annotation Framework (see below). This contrasts with the previous version</th>\n",
       "      <th>which has been archived as a database dump in a specialised format: Emdros (see the link below).</th>\n",
       "      <td>NaN</td>\n",
       "    </tr>\n",
       "    <tr>\n",
       "      <th>(C) a new tool</th>\n",
       "      <th>LAF-Fabric is added to process the ETCBC4 version directly from its LAF representation. The picture on this page shows a few samples what can be done with it.</th>\n",
       "      <td>NaN</td>\n",
       "    </tr>\n",
       "    <tr>\n",
       "      <th>(D) extensive documentation is provided</th>\n",
       "      <th>including a description of all the computing steps involved in getting the data in LAF format.</th>\n",
       "      <td>NaN</td>\n",
       "    </tr>\n",
       "    <tr>\n",
       "      <th>Since 2012 there is an ISO standard for the stand-off markup of language resources</th>\n",
       "      <th>Linguistic Annotation Framework (LAF).</th>\n",
       "      <td>NaN</td>\n",
       "    </tr>\n",
       "    <tr>\n",
       "      <th>This has been used for the Hebrew Bible</th>\n",
       "      <th>but it can also be applied to the Syriac text in the CALAP (see link below).</th>\n",
       "      <td>NaN</td>\n",
       "    </tr>\n",
       "    <tr>\n",
       "      <th>This dataset contains a folder laf with the laf files</th>\n",
       "      <th>and the necessary declarations are contained in the folder decl.</th>\n",
       "      <td>NaN</td>\n",
       "    </tr>\n",
       "    <tr>\n",
       "      <th>Among these declarations are feature declaration documents</th>\n",
       "      <th>in TEI format (see link below)</th>\n",
       "      <td>with hyperlinks to concept definitions in ISO...</td>\n",
       "    </tr>\n",
       "    <tr>\n",
       "      <th>For completeness</th>\n",
       "      <th>the ISOcat definitions are repeated in the feature declaration documents.</th>\n",
       "      <td>NaN</td>\n",
       "    </tr>\n",
       "    <tr>\n",
       "      <th>These definitions are terse</th>\n",
       "      <th>and they are more fully documented in the folder documentation.</th>\n",
       "      <td>NaN</td>\n",
       "    </tr>\n",
       "    <tr>\n",
       "      <th>created;http://easy.dans.knaw.nl/easy/easymetadata/eas/;2014-07-13</th>\n",
       "      <th>NaN</th>\n",
       "      <td>NaN</td>\n",
       "    </tr>\n",
       "    <tr>\n",
       "      <th>available;http://easy.dans.knaw.nl/easy/easymetadata/eas/;2014-07-29</th>\n",
       "      <th>NaN</th>\n",
       "      <td>NaN</td>\n",
       "    </tr>\n",
       "    <tr>\n",
       "      <th>dateSubmitted;http://easy.dans.knaw.nl/easy/easymetadata/eas/;2014-07-18</th>\n",
       "      <th>NaN</th>\n",
       "      <td>NaN</td>\n",
       "    </tr>\n",
       "    <tr>\n",
       "      <th>type;http://purl.org/dc/elements/1.1/;Dataset</th>\n",
       "      <th>NaN</th>\n",
       "      <td>NaN</td>\n",
       "    </tr>\n",
       "    <tr>\n",
       "      <th>format;http://purl.org/dc/elements/1.1/;application/x-cmdi+xml;xml;linguistic annotation framework (LAF);text encoding initiative (TEI);unicode text</th>\n",
       "      <th>NaN</th>\n",
       "      <td>NaN</td>\n",
       "    </tr>\n",
       "    <tr>\n",
       "      <th>identifier;http://purl.org/dc/elements/1.1/;urn:nbn:nl:ui:13-048i-71;10.17026/dans-2z3-arxf;ETCBC4;WIVU;easy-dataset:58245</th>\n",
       "      <th>NaN</th>\n",
       "      <td>NaN</td>\n",
       "    </tr>\n",
       "    <tr>\n",
       "      <th>source;http://purl.org/dc/elements/1.1/;The ETCBC4 text is based on the printed edition of the Biblia Hebraica Stuttgartensia</th>\n",
       "      <th>editio quinta emendata (1997).</th>\n",
       "      <td>NaN</td>\n",
       "    </tr>\n",
       "    <tr>\n",
       "      <th>This edition</th>\n",
       "      <th>published by the German Bible Society</th>\n",
       "      <td>represents the text found in the oldest comp...</td>\n",
       "    </tr>\n",
       "    <tr>\n",
       "      <th>Hebrew Bible/ Old Testament</th>\n",
       "      <th>the so-called Codex Leningradensis (Codex Firkovich B 19 A).</th>\n",
       "      <td>NaN</td>\n",
       "    </tr>\n",
       "    <tr>\n",
       "      <th>Although it cannot be taken for granted that this manuscript</th>\n",
       "      <th>and hence the scholarly edition that represents it</th>\n",
       "      <td>NaN</td>\n",
       "    </tr>\n",
       "    <tr>\n",
       "      <th>always contains the best (“original”) reading and although we have older manuscripts for various parts of the Bible</th>\n",
       "      <th>NaN</th>\n",
       "      <td>NaN</td>\n",
       "    </tr>\n",
       "    <tr>\n",
       "      <th>(Dead Sea Scrolls</th>\n",
       "      <th>some other codices that cover only part of the Hebrew Bible)</th>\n",
       "      <td>NaN</td>\n",
       "    </tr>\n",
       "    <tr>\n",
       "      <th>taking this edition as basis for the electronic text was a natural step because of its central role as</th>\n",
       "      <th>NaN</th>\n",
       "      <td>NaN</td>\n",
       "    </tr>\n",
       "    <tr>\n",
       "      <th>*the* scholarly edition of the Old Testament that is almost exclusively used by biblical scholars</th>\n",
       "      <th>NaN</th>\n",
       "      <td>NaN</td>\n",
       "    </tr>\n",
       "    <tr>\n",
       "      <th>and that is the basis for almost all Bible translations in modern languages as far as they translate the Hebrew text.</th>\n",
       "      <th>NaN</th>\n",
       "      <td>NaN</td>\n",
       "    </tr>\n",
       "    <tr>\n",
       "      <th>The linguistic features of ETCBC4 have been provided by the Eep Talstra Centre for Bible and Computing.</th>\n",
       "      <th>NaN</th>\n",
       "      <td>NaN</td>\n",
       "    </tr>\n",
       "    <tr>\n",
       "      <th>At the moment of depositing</th>\n",
       "      <th>this version is still in beta.</th>\n",
       "      <td>NaN</td>\n",
       "    </tr>\n",
       "    <tr>\n",
       "      <th>The data deposited is the newest data that was available at the date of depositing.</th>\n",
       "      <th>NaN</th>\n",
       "      <td>NaN</td>\n",
       "    </tr>\n",
       "    <tr>\n",
       "      <th>This LAF resource has been generated from the contents of an Emdros database</th>\n",
       "      <th>NaN</th>\n",
       "      <td>NaN</td>\n",
       "    </tr>\n",
       "    <tr>\n",
       "      <th>However</th>\n",
       "      <th>not all data that the ETCBC group is producing</th>\n",
       "      <td>is published in this form.</td>\n",
       "    </tr>\n",
       "    <tr>\n",
       "      <th>We have made a selection of some extra data</th>\n",
       "      <th>and have added that as an extra LAF annotation file</th>\n",
       "      <td>which can be used in</td>\n",
       "    </tr>\n",
       "    <tr>\n",
       "      <th>conjunction with the LAF resource originating from the Emdros database.</th>\n",
       "      <th>NaN</th>\n",
       "      <td>NaN</td>\n",
       "    </tr>\n",
       "    <tr>\n",
       "      <th>LAF-Fabric is on Github (see the link below). A snapshot of the version which helped to produce the ETCBC4 in its LAF form</th>\n",
       "      <th>is included in the this dataset</th>\n",
       "      <td>including source code and documentation. We r...</td>\n",
       "    </tr>\n",
       "    <tr>\n",
       "      <th>language;http://purl.org/dc/elements/1.1/;eng;Ancient Hebrew (hbo);Official Aramaic; Imperial Aramaic (arc)</th>\n",
       "      <th>NaN</th>\n",
       "      <td>NaN</td>\n",
       "    </tr>\n",
       "    <tr>\n",
       "      <th>spatial;http://purl.org/dc/terms/;Middle East</th>\n",
       "      <th>NaN</th>\n",
       "      <td>NaN</td>\n",
       "    </tr>\n",
       "    <tr>\n",
       "      <th>temporal;http://purl.org/dc/terms/;1000 BC - 1000 AD</th>\n",
       "      <th>NaN</th>\n",
       "      <td>NaN</td>\n",
       "    </tr>\n",
       "    <tr>\n",
       "      <th>accessRights;http://purl.org/dc/terms/;OPEN_ACCESS_FOR_REGISTERED_USERS</th>\n",
       "      <th>NaN</th>\n",
       "      <td>NaN</td>\n",
       "    </tr>\n",
       "    <tr>\n",
       "      <th>license;http://purl.org/dc/terms/;accept</th>\n",
       "      <th>NaN</th>\n",
       "      <td>NaN</td>\n",
       "    </tr>\n",
       "    <tr>\n",
       "      <th>rightsHolder;http://purl.org/dc/terms/;Eep Talstra Centre for Bible And Computing</th>\n",
       "      <th>VU University Amsterdam</th>\n",
       "      <td>NaN</td>\n",
       "    </tr>\n",
       "    <tr>\n",
       "      <th>audience;http://purl.org/dc/terms/;easy-discipline:9;easy-discipline:19;easy-discipline:22</th>\n",
       "      <th>NaN</th>\n",
       "      <td>NaN</td>\n",
       "    </tr>\n",
       "    <tr>\n",
       "      <th>remarks;http://easy.dans.knaw.nl/easy/easymetadata/eas/;Please note:</th>\n",
       "      <th>NaN</th>\n",
       "      <td>NaN</td>\n",
       "    </tr>\n",
       "  </tbody>\n",
       "</table>\n",
       "</div>"
      ],
      "text/plain": [
       "                                                                                                      title;http://purl.org/dc/elements/1.1/;Hebrew Text Database ETCBC4\n",
       "creator;http://easy.dans.knaw.nl/easy/easymetad...  Prof. Dr. W.T. van (ETCBC                                                              VU Amsterdam)                \n",
       "subject;http://purl.org/dc/elements/1.1/;Ancien... NaN                                                                                               NaN                \n",
       "description;http://purl.org/dc/elements/1.1/;Th...  contains the scholarly text of the Hebrew Bibl...                                                NaN                \n",
       "A previous version can be found in EASY (see th... NaN                                                                                               NaN                \n",
       "The present dataset is an improvement in many w... NaN                                                                                               NaN                \n",
       "(A) it contains a new version of the data           called ETCBC4.                                                                                   NaN                \n",
       "The content has been heavily updated                with new linguistic annotations and a better o...     and lots of additions and corrections as well.                \n",
       "(B) the data format is now Linguistic Annotatio...  which has been archived as a database dump in ...                                                NaN                \n",
       "(C) a new tool                                      LAF-Fabric is added to process the ETCBC4 vers...                                                NaN                \n",
       "(D) extensive documentation is provided             including a description of all the computing s...                                                NaN                \n",
       "Since 2012 there is an ISO standard for the sta...  Linguistic Annotation Framework (LAF).                                                           NaN                \n",
       "This has been used for the Hebrew Bible             but it can also be applied to the Syriac text ...                                                NaN                \n",
       "This dataset contains a folder laf with the laf...  and the necessary declarations are contained i...                                                NaN                \n",
       "Among these declarations are feature declaratio...  in TEI format (see link below)                      with hyperlinks to concept definitions in ISO...                \n",
       "For completeness                                    the ISOcat definitions are repeated in the fea...                                                NaN                \n",
       "These definitions are terse                         and they are more fully documented in the fold...                                                NaN                \n",
       "created;http://easy.dans.knaw.nl/easy/easymetad... NaN                                                                                               NaN                \n",
       "available;http://easy.dans.knaw.nl/easy/easymet... NaN                                                                                               NaN                \n",
       "dateSubmitted;http://easy.dans.knaw.nl/easy/eas... NaN                                                                                               NaN                \n",
       "type;http://purl.org/dc/elements/1.1/;Dataset      NaN                                                                                               NaN                \n",
       "format;http://purl.org/dc/elements/1.1/;applica... NaN                                                                                               NaN                \n",
       "identifier;http://purl.org/dc/elements/1.1/;urn... NaN                                                                                               NaN                \n",
       "source;http://purl.org/dc/elements/1.1/;The ETC...  editio quinta emendata (1997).                                                                   NaN                \n",
       "This edition                                        published by the German Bible Society                represents the text found in the oldest comp...                \n",
       "Hebrew Bible/ Old Testament                         the so-called Codex Leningradensis (Codex Firk...                                                NaN                \n",
       "Although it cannot be taken for granted that th...  and hence the scholarly edition that represent...                                                NaN                \n",
       "always contains the best (“original”) reading a... NaN                                                                                               NaN                \n",
       "(Dead Sea Scrolls                                   some other codices that cover only part of the...                                                NaN                \n",
       "taking this edition as basis for the electronic... NaN                                                                                               NaN                \n",
       "*the* scholarly edition of the Old Testament th... NaN                                                                                               NaN                \n",
       "and that is the basis for almost all Bible tran... NaN                                                                                               NaN                \n",
       "The linguistic features of ETCBC4 have been pro... NaN                                                                                               NaN                \n",
       "At the moment of depositing                         this version is still in beta.                                                                   NaN                \n",
       "The data deposited is the newest data that was ... NaN                                                                                               NaN                \n",
       "This LAF resource has been generated from the c... NaN                                                                                               NaN                \n",
       "However                                             not all data that the ETCBC group is producing                            is published in this form.                \n",
       "We have made a selection of some extra data         and have added that as an extra LAF annotation...                               which can be used in                \n",
       "conjunction with the LAF resource originating f... NaN                                                                                               NaN                \n",
       "LAF-Fabric is on Github (see the link below). A...  is included in the this dataset                     including source code and documentation. We r...                \n",
       "language;http://purl.org/dc/elements/1.1/;eng;A... NaN                                                                                               NaN                \n",
       "spatial;http://purl.org/dc/terms/;Middle East      NaN                                                                                               NaN                \n",
       "temporal;http://purl.org/dc/terms/;1000 BC - 10... NaN                                                                                               NaN                \n",
       "accessRights;http://purl.org/dc/terms/;OPEN_ACC... NaN                                                                                               NaN                \n",
       "license;http://purl.org/dc/terms/;accept           NaN                                                                                               NaN                \n",
       "rightsHolder;http://purl.org/dc/terms/;Eep Tals...  VU University Amsterdam                                                                          NaN                \n",
       "audience;http://purl.org/dc/terms/;easy-discipl... NaN                                                                                               NaN                \n",
       "remarks;http://easy.dans.knaw.nl/easy/easymetad... NaN                                                                                               NaN                "
      ]
     },
     "execution_count": 34,
     "metadata": {},
     "output_type": "execute_result"
    }
   ],
   "source": [
    "HEB = 'heb.csv'\n",
    "heb_df = pd.read_csv(TANACH + HEB, error_bad_lines=False)\n",
    "heb_df\n",
    "# heb_df.shape"
   ]
  },
  {
   "cell_type": "code",
   "execution_count": 33,
   "metadata": {},
   "outputs": [
    {
     "name": "stdout",
     "output_type": "stream",
     "text": [
      "Collecting pyxlsb\n",
      "  Could not fetch URL https://pypi.org/simple/pyxlsb/: There was a problem confirming the ssl certificate: HTTPSConnectionPool(host='pypi.org', port=443): Max retries exceeded with url: /simple/pyxlsb/ (Caused by SSLError(SSLCertVerificationError(1, '[SSL: CERTIFICATE_VERIFY_FAILED] certificate verify failed: unable to get local issuer certificate (_ssl.c:1056)'))) - skipping\n",
      "Could not fetch URL https://pypi.org/simple/pip/: There was a problem confirming the ssl certificate: HTTPSConnectionPool(host='pypi.org', port=443): Max retries exceeded with url: /simple/pip/ (Caused by SSLError(SSLCertVerificationError(1, '[SSL: CERTIFICATE_VERIFY_FAILED] certificate verify failed: unable to get local issuer certificate (_ssl.c:1056)'))) - skipping\n"
     ]
    },
    {
     "name": "stderr",
     "output_type": "stream",
     "text": [
      "  WARNING: Retrying (Retry(total=4, connect=None, read=None, redirect=None, status=None)) after connection broken by 'SSLError(SSLCertVerificationError(1, '[SSL: CERTIFICATE_VERIFY_FAILED] certificate verify failed: unable to get local issuer certificate (_ssl.c:1056)'))': /simple/pyxlsb/\n",
      "  WARNING: Retrying (Retry(total=3, connect=None, read=None, redirect=None, status=None)) after connection broken by 'SSLError(SSLCertVerificationError(1, '[SSL: CERTIFICATE_VERIFY_FAILED] certificate verify failed: unable to get local issuer certificate (_ssl.c:1056)'))': /simple/pyxlsb/\n",
      "  WARNING: Retrying (Retry(total=2, connect=None, read=None, redirect=None, status=None)) after connection broken by 'SSLError(SSLCertVerificationError(1, '[SSL: CERTIFICATE_VERIFY_FAILED] certificate verify failed: unable to get local issuer certificate (_ssl.c:1056)'))': /simple/pyxlsb/\n",
      "  WARNING: Retrying (Retry(total=1, connect=None, read=None, redirect=None, status=None)) after connection broken by 'SSLError(SSLCertVerificationError(1, '[SSL: CERTIFICATE_VERIFY_FAILED] certificate verify failed: unable to get local issuer certificate (_ssl.c:1056)'))': /simple/pyxlsb/\n",
      "  WARNING: Retrying (Retry(total=0, connect=None, read=None, redirect=None, status=None)) after connection broken by 'SSLError(SSLCertVerificationError(1, '[SSL: CERTIFICATE_VERIFY_FAILED] certificate verify failed: unable to get local issuer certificate (_ssl.c:1056)'))': /simple/pyxlsb/\n",
      "  ERROR: Could not find a version that satisfies the requirement pyxlsb (from versions: none)\n",
      "ERROR: No matching distribution found for pyxlsb\n"
     ]
    }
   ],
   "source": [
    "!pip3 install pyxlsb"
   ]
  },
  {
   "cell_type": "code",
   "execution_count": 32,
   "metadata": {},
   "outputs": [
    {
     "ename": "com_error",
     "evalue": "(-2147221005, 'Invalid class string', None, None)",
     "output_type": "error",
     "traceback": [
      "\u001b[1;31m---------------------------------------------------------------------------\u001b[0m",
      "\u001b[1;31mcom_error\u001b[0m                                 Traceback (most recent call last)",
      "\u001b[1;32m<ipython-input-32-f78094b18c6c>\u001b[0m in \u001b[0;36m<module>\u001b[1;34m\u001b[0m\n\u001b[0;32m      1\u001b[0m \u001b[1;32mimport\u001b[0m \u001b[0mxlwings\u001b[0m \u001b[1;32mas\u001b[0m \u001b[0mxw\u001b[0m\u001b[1;33m\u001b[0m\u001b[1;33m\u001b[0m\u001b[0m\n\u001b[0;32m      2\u001b[0m \u001b[1;33m\u001b[0m\u001b[0m\n\u001b[1;32m----> 3\u001b[1;33m \u001b[0mapp\u001b[0m \u001b[1;33m=\u001b[0m \u001b[0mxw\u001b[0m\u001b[1;33m.\u001b[0m\u001b[0mApp\u001b[0m\u001b[1;33m(\u001b[0m\u001b[1;33m)\u001b[0m\u001b[1;33m\u001b[0m\u001b[1;33m\u001b[0m\u001b[0m\n\u001b[0m\u001b[0;32m      4\u001b[0m \u001b[0mbook\u001b[0m \u001b[1;33m=\u001b[0m \u001b[0mxw\u001b[0m\u001b[1;33m.\u001b[0m\u001b[0mBook\u001b[0m\u001b[1;33m(\u001b[0m\u001b[1;34m'heb.xlsb'\u001b[0m\u001b[1;33m)\u001b[0m\u001b[1;33m\u001b[0m\u001b[1;33m\u001b[0m\u001b[0m\n\u001b[0;32m      5\u001b[0m \u001b[0msheet\u001b[0m \u001b[1;33m=\u001b[0m \u001b[0mbook\u001b[0m\u001b[1;33m.\u001b[0m\u001b[0msheets\u001b[0m\u001b[1;33m(\u001b[0m\u001b[1;34m'sheet_name'\u001b[0m\u001b[1;33m)\u001b[0m\u001b[1;33m\u001b[0m\u001b[1;33m\u001b[0m\u001b[0m\n",
      "\u001b[1;32mC:\\ProgramData\\Anaconda3-v2\\lib\\site-packages\\xlwings\\main.py\u001b[0m in \u001b[0;36m__init__\u001b[1;34m(self, visible, spec, add_book, impl)\u001b[0m\n\u001b[0;32m    210\u001b[0m     \u001b[1;32mdef\u001b[0m \u001b[0m__init__\u001b[0m\u001b[1;33m(\u001b[0m\u001b[0mself\u001b[0m\u001b[1;33m,\u001b[0m \u001b[0mvisible\u001b[0m\u001b[1;33m=\u001b[0m\u001b[1;32mNone\u001b[0m\u001b[1;33m,\u001b[0m \u001b[0mspec\u001b[0m\u001b[1;33m=\u001b[0m\u001b[1;32mNone\u001b[0m\u001b[1;33m,\u001b[0m \u001b[0madd_book\u001b[0m\u001b[1;33m=\u001b[0m\u001b[1;32mTrue\u001b[0m\u001b[1;33m,\u001b[0m \u001b[0mimpl\u001b[0m\u001b[1;33m=\u001b[0m\u001b[1;32mNone\u001b[0m\u001b[1;33m)\u001b[0m\u001b[1;33m:\u001b[0m\u001b[1;33m\u001b[0m\u001b[1;33m\u001b[0m\u001b[0m\n\u001b[0;32m    211\u001b[0m         \u001b[1;32mif\u001b[0m \u001b[0mimpl\u001b[0m \u001b[1;32mis\u001b[0m \u001b[1;32mNone\u001b[0m\u001b[1;33m:\u001b[0m\u001b[1;33m\u001b[0m\u001b[1;33m\u001b[0m\u001b[0m\n\u001b[1;32m--> 212\u001b[1;33m             \u001b[0mself\u001b[0m\u001b[1;33m.\u001b[0m\u001b[0mimpl\u001b[0m \u001b[1;33m=\u001b[0m \u001b[0mxlplatform\u001b[0m\u001b[1;33m.\u001b[0m\u001b[0mApp\u001b[0m\u001b[1;33m(\u001b[0m\u001b[0mspec\u001b[0m\u001b[1;33m=\u001b[0m\u001b[0mspec\u001b[0m\u001b[1;33m,\u001b[0m \u001b[0madd_book\u001b[0m\u001b[1;33m=\u001b[0m\u001b[0madd_book\u001b[0m\u001b[1;33m)\u001b[0m\u001b[1;33m\u001b[0m\u001b[1;33m\u001b[0m\u001b[0m\n\u001b[0m\u001b[0;32m    213\u001b[0m             \u001b[1;32mif\u001b[0m \u001b[0mvisible\u001b[0m \u001b[1;32mor\u001b[0m \u001b[0mvisible\u001b[0m \u001b[1;32mis\u001b[0m \u001b[1;32mNone\u001b[0m\u001b[1;33m:\u001b[0m\u001b[1;33m\u001b[0m\u001b[1;33m\u001b[0m\u001b[0m\n\u001b[0;32m    214\u001b[0m                 \u001b[0mself\u001b[0m\u001b[1;33m.\u001b[0m\u001b[0mvisible\u001b[0m \u001b[1;33m=\u001b[0m \u001b[1;32mTrue\u001b[0m\u001b[1;33m\u001b[0m\u001b[1;33m\u001b[0m\u001b[0m\n",
      "\u001b[1;32mC:\\ProgramData\\Anaconda3-v2\\lib\\site-packages\\xlwings\\_xlwindows.py\u001b[0m in \u001b[0;36m__init__\u001b[1;34m(self, spec, add_book, xl)\u001b[0m\n\u001b[0;32m    294\u001b[0m         \u001b[1;32mif\u001b[0m \u001b[0mxl\u001b[0m \u001b[1;32mis\u001b[0m \u001b[1;32mNone\u001b[0m\u001b[1;33m:\u001b[0m\u001b[1;33m\u001b[0m\u001b[1;33m\u001b[0m\u001b[0m\n\u001b[0;32m    295\u001b[0m             \u001b[1;31m# new instance\u001b[0m\u001b[1;33m\u001b[0m\u001b[1;33m\u001b[0m\u001b[1;33m\u001b[0m\u001b[0m\n\u001b[1;32m--> 296\u001b[1;33m             \u001b[0mself\u001b[0m\u001b[1;33m.\u001b[0m\u001b[0m_xl\u001b[0m \u001b[1;33m=\u001b[0m \u001b[0mCOMRetryObjectWrapper\u001b[0m\u001b[1;33m(\u001b[0m\u001b[0mDispatchEx\u001b[0m\u001b[1;33m(\u001b[0m\u001b[1;34m'Excel.Application'\u001b[0m\u001b[1;33m)\u001b[0m\u001b[1;33m)\u001b[0m\u001b[1;33m\u001b[0m\u001b[1;33m\u001b[0m\u001b[0m\n\u001b[0m\u001b[0;32m    297\u001b[0m             \u001b[1;32mif\u001b[0m \u001b[0madd_book\u001b[0m\u001b[1;33m:\u001b[0m\u001b[1;33m\u001b[0m\u001b[1;33m\u001b[0m\u001b[0m\n\u001b[0;32m    298\u001b[0m                 \u001b[0mself\u001b[0m\u001b[1;33m.\u001b[0m\u001b[0m_xl\u001b[0m\u001b[1;33m.\u001b[0m\u001b[0mWorkbooks\u001b[0m\u001b[1;33m.\u001b[0m\u001b[0mAdd\u001b[0m\u001b[1;33m(\u001b[0m\u001b[1;33m)\u001b[0m\u001b[1;33m\u001b[0m\u001b[1;33m\u001b[0m\u001b[0m\n",
      "\u001b[1;32mC:\\ProgramData\\Anaconda3-v2\\lib\\site-packages\\win32com\\client\\__init__.py\u001b[0m in \u001b[0;36mDispatchEx\u001b[1;34m(clsid, machine, userName, resultCLSID, typeinfo, UnicodeToString, clsctx)\u001b[0m\n\u001b[0;32m    111\u001b[0m     \u001b[0mserverInfo\u001b[0m \u001b[1;33m=\u001b[0m \u001b[1;33m(\u001b[0m\u001b[0mmachine\u001b[0m\u001b[1;33m,\u001b[0m\u001b[1;33m)\u001b[0m\u001b[1;33m\u001b[0m\u001b[1;33m\u001b[0m\u001b[0m\n\u001b[0;32m    112\u001b[0m   \u001b[1;32mif\u001b[0m \u001b[0muserName\u001b[0m \u001b[1;32mis\u001b[0m \u001b[1;32mNone\u001b[0m\u001b[1;33m:\u001b[0m \u001b[0muserName\u001b[0m \u001b[1;33m=\u001b[0m \u001b[0mclsid\u001b[0m\u001b[1;33m\u001b[0m\u001b[1;33m\u001b[0m\u001b[0m\n\u001b[1;32m--> 113\u001b[1;33m   \u001b[0mdispatch\u001b[0m \u001b[1;33m=\u001b[0m \u001b[0mpythoncom\u001b[0m\u001b[1;33m.\u001b[0m\u001b[0mCoCreateInstanceEx\u001b[0m\u001b[1;33m(\u001b[0m\u001b[0mclsid\u001b[0m\u001b[1;33m,\u001b[0m \u001b[1;32mNone\u001b[0m\u001b[1;33m,\u001b[0m \u001b[0mclsctx\u001b[0m\u001b[1;33m,\u001b[0m \u001b[0mserverInfo\u001b[0m\u001b[1;33m,\u001b[0m \u001b[1;33m(\u001b[0m\u001b[0mpythoncom\u001b[0m\u001b[1;33m.\u001b[0m\u001b[0mIID_IDispatch\u001b[0m\u001b[1;33m,\u001b[0m\u001b[1;33m)\u001b[0m\u001b[1;33m)\u001b[0m\u001b[1;33m[\u001b[0m\u001b[1;36m0\u001b[0m\u001b[1;33m]\u001b[0m\u001b[1;33m\u001b[0m\u001b[1;33m\u001b[0m\u001b[0m\n\u001b[0m\u001b[0;32m    114\u001b[0m   \u001b[1;32mreturn\u001b[0m \u001b[0mDispatch\u001b[0m\u001b[1;33m(\u001b[0m\u001b[0mdispatch\u001b[0m\u001b[1;33m,\u001b[0m \u001b[0muserName\u001b[0m\u001b[1;33m,\u001b[0m \u001b[0mresultCLSID\u001b[0m\u001b[1;33m,\u001b[0m \u001b[0mtypeinfo\u001b[0m\u001b[1;33m,\u001b[0m \u001b[0mclsctx\u001b[0m\u001b[1;33m=\u001b[0m\u001b[0mclsctx\u001b[0m\u001b[1;33m)\u001b[0m\u001b[1;33m\u001b[0m\u001b[1;33m\u001b[0m\u001b[0m\n\u001b[0;32m    115\u001b[0m \u001b[1;33m\u001b[0m\u001b[0m\n",
      "\u001b[1;31mcom_error\u001b[0m: (-2147221005, 'Invalid class string', None, None)"
     ]
    }
   ],
   "source": [
    "import xlwings as xw\n",
    "\n",
    "app = xw.App()\n",
    "book = xw.Book('heb.xlsb')\n",
    "sheet = book.sheets('sheet_name')\n",
    "df = sheet.range('A1').options(pd.DataFrame, expand='table').value\n",
    "book.close()\n",
    "app.kill()"
   ]
  },
  {
   "cell_type": "code",
   "execution_count": 30,
   "metadata": {},
   "outputs": [
    {
     "ename": "ModuleNotFoundError",
     "evalue": "No module named 'pyxlsb'",
     "output_type": "error",
     "traceback": [
      "\u001b[1;31m---------------------------------------------------------------------------\u001b[0m",
      "\u001b[1;31mModuleNotFoundError\u001b[0m                       Traceback (most recent call last)",
      "\u001b[1;32m<ipython-input-30-3338f6a7b876>\u001b[0m in \u001b[0;36m<module>\u001b[1;34m\u001b[0m\n\u001b[1;32m----> 1\u001b[1;33m \u001b[1;32mfrom\u001b[0m \u001b[0mpyxlsb\u001b[0m \u001b[1;32mimport\u001b[0m \u001b[0mopen_workbook\u001b[0m \u001b[1;32mas\u001b[0m \u001b[0mopen_xlsb\u001b[0m\u001b[1;33m\u001b[0m\u001b[1;33m\u001b[0m\u001b[0m\n\u001b[0m\u001b[0;32m      2\u001b[0m \u001b[1;33m\u001b[0m\u001b[0m\n\u001b[0;32m      3\u001b[0m \u001b[0mdf2\u001b[0m \u001b[1;33m=\u001b[0m \u001b[1;33m[\u001b[0m\u001b[1;33m]\u001b[0m\u001b[1;33m\u001b[0m\u001b[1;33m\u001b[0m\u001b[0m\n\u001b[0;32m      4\u001b[0m \u001b[1;33m\u001b[0m\u001b[0m\n\u001b[0;32m      5\u001b[0m \u001b[1;32mwith\u001b[0m \u001b[0mopen_xlsb\u001b[0m\u001b[1;33m(\u001b[0m\u001b[1;34m'heb.xlsb'\u001b[0m\u001b[1;33m)\u001b[0m \u001b[1;32mas\u001b[0m \u001b[0mwb\u001b[0m\u001b[1;33m:\u001b[0m\u001b[1;33m\u001b[0m\u001b[1;33m\u001b[0m\u001b[0m\n",
      "\u001b[1;31mModuleNotFoundError\u001b[0m: No module named 'pyxlsb'"
     ]
    }
   ],
   "source": [
    "from pyxlsb import open_workbook as open_xlsb\n",
    "\n",
    "df2 = []\n",
    "\n",
    "with open_xlsb('heb.xlsb') as wb:\n",
    "    with wb.get_sheet(1) as sheet:\n",
    "        for row in sheet.rows():\n",
    "            df.append([item.v for item in row])\n",
    "\n",
    "df3 = pd.DataFrame(df[1:], columns=df[0])\n"
   ]
  },
  {
   "cell_type": "markdown",
   "metadata": {},
   "source": [
    "## Books"
   ]
  },
  {
   "cell_type": "markdown",
   "metadata": {},
   "source": [
    "Let us list the books of the bible by name and number."
   ]
  },
  {
   "cell_type": "code",
   "execution_count": 12,
   "metadata": {},
   "outputs": [
    {
     "data": {
      "text/html": [
       "<div>\n",
       "<style scoped>\n",
       "    .dataframe tbody tr th:only-of-type {\n",
       "        vertical-align: middle;\n",
       "    }\n",
       "\n",
       "    .dataframe tbody tr th {\n",
       "        vertical-align: top;\n",
       "    }\n",
       "\n",
       "    .dataframe thead th {\n",
       "        text-align: right;\n",
       "    }\n",
       "</style>\n",
       "<table border=\"1\" class=\"dataframe\">\n",
       "  <thead>\n",
       "    <tr style=\"text-align: right;\">\n",
       "      <th></th>\n",
       "      <th>b</th>\n",
       "      <th>n</th>\n",
       "      <th>t</th>\n",
       "      <th>g</th>\n",
       "    </tr>\n",
       "  </thead>\n",
       "  <tbody>\n",
       "    <tr>\n",
       "      <th>35</th>\n",
       "      <td>36</td>\n",
       "      <td>Zephaniah</td>\n",
       "      <td>OT</td>\n",
       "      <td>4</td>\n",
       "    </tr>\n",
       "    <tr>\n",
       "      <th>36</th>\n",
       "      <td>37</td>\n",
       "      <td>Haggai</td>\n",
       "      <td>OT</td>\n",
       "      <td>4</td>\n",
       "    </tr>\n",
       "    <tr>\n",
       "      <th>37</th>\n",
       "      <td>38</td>\n",
       "      <td>Zechariah</td>\n",
       "      <td>OT</td>\n",
       "      <td>4</td>\n",
       "    </tr>\n",
       "    <tr>\n",
       "      <th>38</th>\n",
       "      <td>39</td>\n",
       "      <td>Malachi</td>\n",
       "      <td>OT</td>\n",
       "      <td>4</td>\n",
       "    </tr>\n",
       "    <tr>\n",
       "      <th>39</th>\n",
       "      <td>40</td>\n",
       "      <td>Matthew</td>\n",
       "      <td>NT</td>\n",
       "      <td>5</td>\n",
       "    </tr>\n",
       "    <tr>\n",
       "      <th>40</th>\n",
       "      <td>41</td>\n",
       "      <td>Mark</td>\n",
       "      <td>NT</td>\n",
       "      <td>5</td>\n",
       "    </tr>\n",
       "    <tr>\n",
       "      <th>41</th>\n",
       "      <td>42</td>\n",
       "      <td>Luke</td>\n",
       "      <td>NT</td>\n",
       "      <td>5</td>\n",
       "    </tr>\n",
       "  </tbody>\n",
       "</table>\n",
       "</div>"
      ],
      "text/plain": [
       "     b          n   t  g\n",
       "35  36  Zephaniah  OT  4\n",
       "36  37     Haggai  OT  4\n",
       "37  38  Zechariah  OT  4\n",
       "38  39    Malachi  OT  4\n",
       "39  40    Matthew  NT  5\n",
       "40  41       Mark  NT  5\n",
       "41  42       Luke  NT  5"
      ]
     },
     "execution_count": 12,
     "metadata": {},
     "output_type": "execute_result"
    }
   ],
   "source": [
    "BOOKS = 'key_english.csv' # a constant, the file with book numbers\n",
    "df_books = pd.read_csv(BIB + BOOKS) # load data into dataframe \n",
    "df_books[35:42] # sampling of books near the point where Hebrew Bible ends and NT begins."
   ]
  },
  {
   "cell_type": "markdown",
   "metadata": {},
   "source": [
    "**Notice**: The books are labeled in column `t` as either Old or New Testament.\n",
    "\n",
    "**Preference**: I will work with only verses from the Hebrew Bible (OT)."
   ]
  },
  {
   "cell_type": "markdown",
   "metadata": {},
   "source": [
    "## Verses"
   ]
  },
  {
   "cell_type": "markdown",
   "metadata": {},
   "source": [
    "Load the verses into a dataframe. \n",
    "\n",
    "I will use the King James version. Hopefully I can use a real Hebrew version some day..."
   ]
  },
  {
   "cell_type": "code",
   "execution_count": 5,
   "metadata": {
    "scrolled": true
   },
   "outputs": [
    {
     "data": {
      "text/html": [
       "<div>\n",
       "<style scoped>\n",
       "    .dataframe tbody tr th:only-of-type {\n",
       "        vertical-align: middle;\n",
       "    }\n",
       "\n",
       "    .dataframe tbody tr th {\n",
       "        vertical-align: top;\n",
       "    }\n",
       "\n",
       "    .dataframe thead th {\n",
       "        text-align: right;\n",
       "    }\n",
       "</style>\n",
       "<table border=\"1\" class=\"dataframe\">\n",
       "  <thead>\n",
       "    <tr style=\"text-align: right;\">\n",
       "      <th></th>\n",
       "      <th>id</th>\n",
       "      <th>b</th>\n",
       "      <th>c</th>\n",
       "      <th>v</th>\n",
       "      <th>t</th>\n",
       "    </tr>\n",
       "  </thead>\n",
       "  <tbody>\n",
       "    <tr>\n",
       "      <th>30469</th>\n",
       "      <td>60005004</td>\n",
       "      <td>60</td>\n",
       "      <td>5</td>\n",
       "      <td>4</td>\n",
       "      <td>And when the chief Shepherd shall appear, ye s...</td>\n",
       "    </tr>\n",
       "    <tr>\n",
       "      <th>18793</th>\n",
       "      <td>23058007</td>\n",
       "      <td>23</td>\n",
       "      <td>58</td>\n",
       "      <td>7</td>\n",
       "      <td>Is it not to deal thy bread to the hungry, and...</td>\n",
       "    </tr>\n",
       "    <tr>\n",
       "      <th>26139</th>\n",
       "      <td>43003019</td>\n",
       "      <td>43</td>\n",
       "      <td>3</td>\n",
       "      <td>19</td>\n",
       "      <td>And this is the condemnation, that light is co...</td>\n",
       "    </tr>\n",
       "    <tr>\n",
       "      <th>24222</th>\n",
       "      <td>41001007</td>\n",
       "      <td>41</td>\n",
       "      <td>1</td>\n",
       "      <td>7</td>\n",
       "      <td>And preached, saying, There cometh one mightie...</td>\n",
       "    </tr>\n",
       "    <tr>\n",
       "      <th>16019</th>\n",
       "      <td>19119121</td>\n",
       "      <td>19</td>\n",
       "      <td>119</td>\n",
       "      <td>121</td>\n",
       "      <td>I have done judgment and justice: leave me not...</td>\n",
       "    </tr>\n",
       "  </tbody>\n",
       "</table>\n",
       "</div>"
      ],
      "text/plain": [
       "             id   b    c    v  \\\n",
       "30469  60005004  60    5    4   \n",
       "18793  23058007  23   58    7   \n",
       "26139  43003019  43    3   19   \n",
       "24222  41001007  41    1    7   \n",
       "16019  19119121  19  119  121   \n",
       "\n",
       "                                                       t  \n",
       "30469  And when the chief Shepherd shall appear, ye s...  \n",
       "18793  Is it not to deal thy bread to the hungry, and...  \n",
       "26139  And this is the condemnation, that light is co...  \n",
       "24222  And preached, saying, There cometh one mightie...  \n",
       "16019  I have done judgment and justice: leave me not...  "
      ]
     },
     "execution_count": 5,
     "metadata": {},
     "output_type": "execute_result"
    }
   ],
   "source": [
    "KING_JAMES = 't_kjv.csv' # name of finle with king james version of biblical verses\n",
    "df_verses = pd.read_csv(PATH + KING_JAMES) # load verses into dataframe\n",
    "df_verses.sample(5)"
   ]
  },
  {
   "cell_type": "markdown",
   "metadata": {},
   "source": [
    "## Select Hebrew Books"
   ]
  },
  {
   "cell_type": "markdown",
   "metadata": {},
   "source": [
    "I want the select only the verses in which the book, i.e. `df_verses['b']` has a `OT` in the testament column of the list of books, i.e. `df_books['t']`."
   ]
  },
  {
   "cell_type": "code",
   "execution_count": 6,
   "metadata": {},
   "outputs": [
    {
     "data": {
      "text/html": [
       "<div>\n",
       "<style scoped>\n",
       "    .dataframe tbody tr th:only-of-type {\n",
       "        vertical-align: middle;\n",
       "    }\n",
       "\n",
       "    .dataframe tbody tr th {\n",
       "        vertical-align: top;\n",
       "    }\n",
       "\n",
       "    .dataframe thead th {\n",
       "        text-align: right;\n",
       "    }\n",
       "</style>\n",
       "<table border=\"1\" class=\"dataframe\">\n",
       "  <thead>\n",
       "    <tr style=\"text-align: right;\">\n",
       "      <th></th>\n",
       "      <th>b</th>\n",
       "      <th>n</th>\n",
       "      <th>t</th>\n",
       "      <th>g</th>\n",
       "    </tr>\n",
       "  </thead>\n",
       "  <tbody>\n",
       "    <tr>\n",
       "      <th>34</th>\n",
       "      <td>35</td>\n",
       "      <td>Habakkuk</td>\n",
       "      <td>OT</td>\n",
       "      <td>4</td>\n",
       "    </tr>\n",
       "    <tr>\n",
       "      <th>35</th>\n",
       "      <td>36</td>\n",
       "      <td>Zephaniah</td>\n",
       "      <td>OT</td>\n",
       "      <td>4</td>\n",
       "    </tr>\n",
       "    <tr>\n",
       "      <th>36</th>\n",
       "      <td>37</td>\n",
       "      <td>Haggai</td>\n",
       "      <td>OT</td>\n",
       "      <td>4</td>\n",
       "    </tr>\n",
       "    <tr>\n",
       "      <th>37</th>\n",
       "      <td>38</td>\n",
       "      <td>Zechariah</td>\n",
       "      <td>OT</td>\n",
       "      <td>4</td>\n",
       "    </tr>\n",
       "    <tr>\n",
       "      <th>38</th>\n",
       "      <td>39</td>\n",
       "      <td>Malachi</td>\n",
       "      <td>OT</td>\n",
       "      <td>4</td>\n",
       "    </tr>\n",
       "  </tbody>\n",
       "</table>\n",
       "</div>"
      ],
      "text/plain": [
       "     b          n   t  g\n",
       "34  35   Habakkuk  OT  4\n",
       "35  36  Zephaniah  OT  4\n",
       "36  37     Haggai  OT  4\n",
       "37  38  Zechariah  OT  4\n",
       "38  39    Malachi  OT  4"
      ]
     },
     "execution_count": 6,
     "metadata": {},
     "output_type": "execute_result"
    }
   ],
   "source": [
    "heb_books = df_books.loc[df_books['t'] == 'OT']\n",
    "heb_books.tail(5)"
   ]
  },
  {
   "cell_type": "markdown",
   "metadata": {},
   "source": [
    "**Notice**: The Hebrew books go up to number 39. Let's exlude anything higher."
   ]
  },
  {
   "cell_type": "code",
   "execution_count": 7,
   "metadata": {},
   "outputs": [
    {
     "data": {
      "text/html": [
       "<div>\n",
       "<style scoped>\n",
       "    .dataframe tbody tr th:only-of-type {\n",
       "        vertical-align: middle;\n",
       "    }\n",
       "\n",
       "    .dataframe tbody tr th {\n",
       "        vertical-align: top;\n",
       "    }\n",
       "\n",
       "    .dataframe thead th {\n",
       "        text-align: right;\n",
       "    }\n",
       "</style>\n",
       "<table border=\"1\" class=\"dataframe\">\n",
       "  <thead>\n",
       "    <tr style=\"text-align: right;\">\n",
       "      <th></th>\n",
       "      <th>id</th>\n",
       "      <th>b</th>\n",
       "      <th>c</th>\n",
       "      <th>v</th>\n",
       "      <th>t</th>\n",
       "    </tr>\n",
       "  </thead>\n",
       "  <tbody>\n",
       "    <tr>\n",
       "      <th>1995</th>\n",
       "      <td>2017012</td>\n",
       "      <td>2</td>\n",
       "      <td>17</td>\n",
       "      <td>12</td>\n",
       "      <td>But Moses hands were heavy; and they took a st...</td>\n",
       "    </tr>\n",
       "    <tr>\n",
       "      <th>1996</th>\n",
       "      <td>2017013</td>\n",
       "      <td>2</td>\n",
       "      <td>17</td>\n",
       "      <td>13</td>\n",
       "      <td>And Joshua discomfited Amalek and his people w...</td>\n",
       "    </tr>\n",
       "    <tr>\n",
       "      <th>1997</th>\n",
       "      <td>2017014</td>\n",
       "      <td>2</td>\n",
       "      <td>17</td>\n",
       "      <td>14</td>\n",
       "      <td>And the LORD said unto Moses, Write this for a...</td>\n",
       "    </tr>\n",
       "    <tr>\n",
       "      <th>1998</th>\n",
       "      <td>2017015</td>\n",
       "      <td>2</td>\n",
       "      <td>17</td>\n",
       "      <td>15</td>\n",
       "      <td>And Moses built an altar, and called the name ...</td>\n",
       "    </tr>\n",
       "    <tr>\n",
       "      <th>1999</th>\n",
       "      <td>2017016</td>\n",
       "      <td>2</td>\n",
       "      <td>17</td>\n",
       "      <td>16</td>\n",
       "      <td>For he said, Because the LORD hath sworn that ...</td>\n",
       "    </tr>\n",
       "  </tbody>\n",
       "</table>\n",
       "</div>"
      ],
      "text/plain": [
       "           id  b   c   v                                                  t\n",
       "1995  2017012  2  17  12  But Moses hands were heavy; and they took a st...\n",
       "1996  2017013  2  17  13  And Joshua discomfited Amalek and his people w...\n",
       "1997  2017014  2  17  14  And the LORD said unto Moses, Write this for a...\n",
       "1998  2017015  2  17  15  And Moses built an altar, and called the name ...\n",
       "1999  2017016  2  17  16  For he said, Because the LORD hath sworn that ..."
      ]
     },
     "execution_count": 7,
     "metadata": {},
     "output_type": "execute_result"
    }
   ],
   "source": [
    "all_heb_verses = df_verses[df_verses['b']<=39]\n",
    "# heb_verses = all_heb_verses[:23145]\n",
    "heb_verses = all_heb_verses[:2000]\n",
    "heb_verses.tail()\n",
    "all_heb_verses.shape\n",
    "all_heb_verses.tail()\n",
    "heb_verses.tail()"
   ]
  },
  {
   "cell_type": "markdown",
   "metadata": {},
   "source": [
    "## User Input"
   ]
  },
  {
   "cell_type": "markdown",
   "metadata": {},
   "source": [
    "Request the user to provide us the info about his chosen verse. \n",
    "\n",
    "First, glance at the chart of all books and their numbers."
   ]
  },
  {
   "cell_type": "code",
   "execution_count": 8,
   "metadata": {},
   "outputs": [
    {
     "data": {
      "text/html": [
       "<div>\n",
       "<style scoped>\n",
       "    .dataframe tbody tr th:only-of-type {\n",
       "        vertical-align: middle;\n",
       "    }\n",
       "\n",
       "    .dataframe tbody tr th {\n",
       "        vertical-align: top;\n",
       "    }\n",
       "\n",
       "    .dataframe thead th {\n",
       "        text-align: right;\n",
       "    }\n",
       "</style>\n",
       "<table border=\"1\" class=\"dataframe\">\n",
       "  <thead>\n",
       "    <tr style=\"text-align: right;\">\n",
       "      <th></th>\n",
       "      <th>b</th>\n",
       "      <th>n</th>\n",
       "    </tr>\n",
       "  </thead>\n",
       "  <tbody>\n",
       "    <tr>\n",
       "      <th>0</th>\n",
       "      <td>1</td>\n",
       "      <td>Genesis</td>\n",
       "    </tr>\n",
       "    <tr>\n",
       "      <th>1</th>\n",
       "      <td>2</td>\n",
       "      <td>Exodus</td>\n",
       "    </tr>\n",
       "    <tr>\n",
       "      <th>2</th>\n",
       "      <td>3</td>\n",
       "      <td>Leviticus</td>\n",
       "    </tr>\n",
       "    <tr>\n",
       "      <th>3</th>\n",
       "      <td>4</td>\n",
       "      <td>Numbers</td>\n",
       "    </tr>\n",
       "    <tr>\n",
       "      <th>4</th>\n",
       "      <td>5</td>\n",
       "      <td>Deuteronomy</td>\n",
       "    </tr>\n",
       "    <tr>\n",
       "      <th>5</th>\n",
       "      <td>6</td>\n",
       "      <td>Joshua</td>\n",
       "    </tr>\n",
       "    <tr>\n",
       "      <th>6</th>\n",
       "      <td>7</td>\n",
       "      <td>Judges</td>\n",
       "    </tr>\n",
       "    <tr>\n",
       "      <th>7</th>\n",
       "      <td>8</td>\n",
       "      <td>Ruth</td>\n",
       "    </tr>\n",
       "    <tr>\n",
       "      <th>8</th>\n",
       "      <td>9</td>\n",
       "      <td>1 Samuel</td>\n",
       "    </tr>\n",
       "    <tr>\n",
       "      <th>9</th>\n",
       "      <td>10</td>\n",
       "      <td>2 Samuel</td>\n",
       "    </tr>\n",
       "    <tr>\n",
       "      <th>10</th>\n",
       "      <td>11</td>\n",
       "      <td>1 Kings</td>\n",
       "    </tr>\n",
       "    <tr>\n",
       "      <th>11</th>\n",
       "      <td>12</td>\n",
       "      <td>2 Kings</td>\n",
       "    </tr>\n",
       "    <tr>\n",
       "      <th>12</th>\n",
       "      <td>13</td>\n",
       "      <td>1 Chronicles</td>\n",
       "    </tr>\n",
       "    <tr>\n",
       "      <th>13</th>\n",
       "      <td>14</td>\n",
       "      <td>2 Chronicles</td>\n",
       "    </tr>\n",
       "    <tr>\n",
       "      <th>14</th>\n",
       "      <td>15</td>\n",
       "      <td>Ezra</td>\n",
       "    </tr>\n",
       "    <tr>\n",
       "      <th>15</th>\n",
       "      <td>16</td>\n",
       "      <td>Nehemiah</td>\n",
       "    </tr>\n",
       "    <tr>\n",
       "      <th>16</th>\n",
       "      <td>17</td>\n",
       "      <td>Esther</td>\n",
       "    </tr>\n",
       "    <tr>\n",
       "      <th>17</th>\n",
       "      <td>18</td>\n",
       "      <td>Job</td>\n",
       "    </tr>\n",
       "    <tr>\n",
       "      <th>18</th>\n",
       "      <td>19</td>\n",
       "      <td>Psalms</td>\n",
       "    </tr>\n",
       "    <tr>\n",
       "      <th>19</th>\n",
       "      <td>20</td>\n",
       "      <td>Proverbs</td>\n",
       "    </tr>\n",
       "    <tr>\n",
       "      <th>20</th>\n",
       "      <td>21</td>\n",
       "      <td>Ecclesiastes</td>\n",
       "    </tr>\n",
       "    <tr>\n",
       "      <th>21</th>\n",
       "      <td>22</td>\n",
       "      <td>Song of Solomon</td>\n",
       "    </tr>\n",
       "    <tr>\n",
       "      <th>22</th>\n",
       "      <td>23</td>\n",
       "      <td>Isaiah</td>\n",
       "    </tr>\n",
       "    <tr>\n",
       "      <th>23</th>\n",
       "      <td>24</td>\n",
       "      <td>Jeremiah</td>\n",
       "    </tr>\n",
       "    <tr>\n",
       "      <th>24</th>\n",
       "      <td>25</td>\n",
       "      <td>Lamentations</td>\n",
       "    </tr>\n",
       "    <tr>\n",
       "      <th>25</th>\n",
       "      <td>26</td>\n",
       "      <td>Ezekiel</td>\n",
       "    </tr>\n",
       "    <tr>\n",
       "      <th>26</th>\n",
       "      <td>27</td>\n",
       "      <td>Daniel</td>\n",
       "    </tr>\n",
       "    <tr>\n",
       "      <th>27</th>\n",
       "      <td>28</td>\n",
       "      <td>Hosea</td>\n",
       "    </tr>\n",
       "    <tr>\n",
       "      <th>28</th>\n",
       "      <td>29</td>\n",
       "      <td>Joel</td>\n",
       "    </tr>\n",
       "    <tr>\n",
       "      <th>29</th>\n",
       "      <td>30</td>\n",
       "      <td>Amos</td>\n",
       "    </tr>\n",
       "    <tr>\n",
       "      <th>30</th>\n",
       "      <td>31</td>\n",
       "      <td>Obadiah</td>\n",
       "    </tr>\n",
       "    <tr>\n",
       "      <th>31</th>\n",
       "      <td>32</td>\n",
       "      <td>Jonah</td>\n",
       "    </tr>\n",
       "    <tr>\n",
       "      <th>32</th>\n",
       "      <td>33</td>\n",
       "      <td>Micah</td>\n",
       "    </tr>\n",
       "    <tr>\n",
       "      <th>33</th>\n",
       "      <td>34</td>\n",
       "      <td>Nahum</td>\n",
       "    </tr>\n",
       "    <tr>\n",
       "      <th>34</th>\n",
       "      <td>35</td>\n",
       "      <td>Habakkuk</td>\n",
       "    </tr>\n",
       "    <tr>\n",
       "      <th>35</th>\n",
       "      <td>36</td>\n",
       "      <td>Zephaniah</td>\n",
       "    </tr>\n",
       "    <tr>\n",
       "      <th>36</th>\n",
       "      <td>37</td>\n",
       "      <td>Haggai</td>\n",
       "    </tr>\n",
       "    <tr>\n",
       "      <th>37</th>\n",
       "      <td>38</td>\n",
       "      <td>Zechariah</td>\n",
       "    </tr>\n",
       "    <tr>\n",
       "      <th>38</th>\n",
       "      <td>39</td>\n",
       "      <td>Malachi</td>\n",
       "    </tr>\n",
       "  </tbody>\n",
       "</table>\n",
       "</div>"
      ],
      "text/plain": [
       "     b                n\n",
       "0    1          Genesis\n",
       "1    2           Exodus\n",
       "2    3        Leviticus\n",
       "3    4          Numbers\n",
       "4    5      Deuteronomy\n",
       "5    6           Joshua\n",
       "6    7           Judges\n",
       "7    8             Ruth\n",
       "8    9         1 Samuel\n",
       "9   10         2 Samuel\n",
       "10  11          1 Kings\n",
       "11  12          2 Kings\n",
       "12  13     1 Chronicles\n",
       "13  14     2 Chronicles\n",
       "14  15             Ezra\n",
       "15  16         Nehemiah\n",
       "16  17           Esther\n",
       "17  18              Job\n",
       "18  19           Psalms\n",
       "19  20         Proverbs\n",
       "20  21     Ecclesiastes\n",
       "21  22  Song of Solomon\n",
       "22  23           Isaiah\n",
       "23  24         Jeremiah\n",
       "24  25     Lamentations\n",
       "25  26          Ezekiel\n",
       "26  27           Daniel\n",
       "27  28            Hosea\n",
       "28  29             Joel\n",
       "29  30             Amos\n",
       "30  31          Obadiah\n",
       "31  32            Jonah\n",
       "32  33            Micah\n",
       "33  34            Nahum\n",
       "34  35         Habakkuk\n",
       "35  36        Zephaniah\n",
       "36  37           Haggai\n",
       "37  38        Zechariah\n",
       "38  39          Malachi"
      ]
     },
     "execution_count": 8,
     "metadata": {},
     "output_type": "execute_result"
    }
   ],
   "source": [
    "heb_books[['b','n']]"
   ]
  },
  {
   "cell_type": "code",
   "execution_count": 9,
   "metadata": {},
   "outputs": [
    {
     "data": {
      "text/plain": [
       "'Exodus'"
      ]
     },
     "execution_count": 9,
     "metadata": {},
     "output_type": "execute_result"
    }
   ],
   "source": [
    "def book_num_to_name(n):\n",
    "    \"\"\"\n",
    "    given the index, produce the book name\n",
    "    e.g. 1 results in genesis\n",
    "    \"\"\"\n",
    "    return heb_books.loc[ heb_books['b'] == n ]['n'].iloc[0]\n",
    "book_num_to_name(2) # for example the second book should be Exodus"
   ]
  },
  {
   "cell_type": "code",
   "execution_count": 10,
   "metadata": {},
   "outputs": [
    {
     "name": "stdout",
     "output_type": "stream",
     "text": [
      "What is the verse you chose? Type and press enter...\n"
     ]
    }
   ],
   "source": [
    "print('What is the verse you chose? Type and press enter...')"
   ]
  },
  {
   "cell_type": "code",
   "execution_count": 12,
   "metadata": {},
   "outputs": [
    {
     "name": "stdout",
     "output_type": "stream",
     "text": [
      "Book (select number from list above): 2\n",
      "Chapter: 15\n",
      "Verse: 1\n"
     ]
    },
    {
     "data": {
      "text/plain": [
       "{'book_num': 2, 'book_name': 'Exodus', 'chap': 15, 'verse': 1}"
      ]
     },
     "execution_count": 12,
     "metadata": {},
     "output_type": "execute_result"
    }
   ],
   "source": [
    "user = {}\n",
    "user['book_num'] = int(input('Book (select number from list above): '))\n",
    "user['book_name'] = book_num_to_name(int(user['book_num']))\n",
    "user['chap'] = int(input(\"Chapter: \"))\n",
    "user['verse'] = int(input(\"Verse: \"))\n",
    "user"
   ]
  },
  {
   "cell_type": "code",
   "execution_count": 13,
   "metadata": {},
   "outputs": [
    {
     "data": {
      "text/plain": [
       "{'num': 1, 'name': 'Genesis'}"
      ]
     },
     "execution_count": 13,
     "metadata": {},
     "output_type": "execute_result"
    }
   ],
   "source": [
    "def id_to_book(verse_id):\n",
    "    \"\"\"\n",
    "    given the verse id number (e.g. 1001001),\n",
    "    produce the book name;\n",
    "    e.g. 1001001 results in genesis    \n",
    "    \"\"\"\n",
    "    book_num = heb_verses.loc[heb_verses['id'] == verse_id]['b'].iloc[0]\n",
    "    book_name = book_num_to_name(book_num)\n",
    "    result = {}\n",
    "    result['num'] = book_num\n",
    "    result['name'] = book_name\n",
    "    return result\n",
    "id_to_book(1002001)"
   ]
  },
  {
   "cell_type": "code",
   "execution_count": 14,
   "metadata": {},
   "outputs": [
    {
     "data": {
      "text/plain": [
       "2015001"
      ]
     },
     "execution_count": 14,
     "metadata": {},
     "output_type": "execute_result"
    }
   ],
   "source": [
    "def ref_to_id(book,chap,verse):\n",
    "    \"\"\"\n",
    "    given the reference, i.e. book, chap, and verse numbers,\n",
    "    produce the verse id;\n",
    "    e.g. (1,1,1) results in 1001001\n",
    "    \"\"\"\n",
    "    return book*1000000 + chap*1000 + verse\n",
    "my_id = ref_to_id(user['book_num'],user['chap'],user['verse'])\n",
    "my_id"
   ]
  },
  {
   "cell_type": "code",
   "execution_count": 15,
   "metadata": {},
   "outputs": [
    {
     "data": {
      "text/html": [
       "<div>\n",
       "<style scoped>\n",
       "    .dataframe tbody tr th:only-of-type {\n",
       "        vertical-align: middle;\n",
       "    }\n",
       "\n",
       "    .dataframe tbody tr th {\n",
       "        vertical-align: top;\n",
       "    }\n",
       "\n",
       "    .dataframe thead th {\n",
       "        text-align: right;\n",
       "    }\n",
       "</style>\n",
       "<table border=\"1\" class=\"dataframe\">\n",
       "  <thead>\n",
       "    <tr style=\"text-align: right;\">\n",
       "      <th></th>\n",
       "      <th>id</th>\n",
       "      <th>b</th>\n",
       "      <th>c</th>\n",
       "      <th>v</th>\n",
       "      <th>t</th>\n",
       "    </tr>\n",
       "  </thead>\n",
       "  <tbody>\n",
       "    <tr>\n",
       "      <th>1921</th>\n",
       "      <td>2015001</td>\n",
       "      <td>2</td>\n",
       "      <td>15</td>\n",
       "      <td>1</td>\n",
       "      <td>Then sang Moses and the children of Israel thi...</td>\n",
       "    </tr>\n",
       "  </tbody>\n",
       "</table>\n",
       "</div>"
      ],
      "text/plain": [
       "           id  b   c  v                                                  t\n",
       "1921  2015001  2  15  1  Then sang Moses and the children of Israel thi..."
      ]
     },
     "execution_count": 15,
     "metadata": {},
     "output_type": "execute_result"
    }
   ],
   "source": [
    "def id_to_row(verse_id):\n",
    "    \"\"\"\n",
    "    given a verse id,\n",
    "    produce the row in the df of verses;\n",
    "    e.g. \n",
    "    \"\"\"\n",
    "    return heb_verses.loc[ heb_verses['id'] == verse_id ] # select the row of verses in which 'id' matches my_id\n",
    "my_row = id_to_row(my_id) # select the row of verses in which 'id' matches my_id\n",
    "my_row"
   ]
  },
  {
   "cell_type": "code",
   "execution_count": 16,
   "metadata": {},
   "outputs": [
    {
     "data": {
      "text/plain": [
       "'Then sang Moses and the children of Israel this song unto the LORD, and spake, saying, I will sing unto the LORD, for he hath triumphed gloriously: the horse and his rider hath he thrown into the sea.'"
      ]
     },
     "execution_count": 16,
     "metadata": {},
     "output_type": "execute_result"
    }
   ],
   "source": [
    "def row_to_verse(row):\n",
    "    \"\"\"\n",
    "    given row of verse df,\n",
    "    produce the verse in string format;\n",
    "    e.g. my_row results in \"In the beg...\"\n",
    "    \"\"\"\n",
    "    return row['t'].iloc[0] # the content of the text column of the row\n",
    "my_verse = row_to_verse(my_row)\n",
    "my_verse\n",
    "# print(type(my_verse))\n",
    "# print(my_verse)"
   ]
  },
  {
   "cell_type": "code",
   "execution_count": 17,
   "metadata": {},
   "outputs": [],
   "source": [
    "\"\"\"\n",
    "TF-IDF stands for Term Frequency Inverse Document Frequency.\n",
    "It is a a numerical statistic that reflects how important a word is to a document.\n",
    "\"\"\"\n",
    "from sklearn.feature_extraction.text import TfidfVectorizer # convert text set into a matrix\n",
    "from sklearn.metrics.pairwise import linear_kernel # "
   ]
  },
  {
   "cell_type": "code",
   "execution_count": 18,
   "metadata": {},
   "outputs": [],
   "source": [
    "# create an instance of the tf idf vectorizer\n",
    "tf = TfidfVectorizer(analyzer='word', # feature should be made of word (not character) n-grams\n",
    "                     ngram_range=(1, 3), # the inclusive range of n-values for different n-grams to be extracted\n",
    "                     min_df=0, # When building the vocabulary, ignore terms that have a document frequency strictly lower than this threshold\n",
    "                     stop_words='english' # passed to _check_stop_list and the appropriate stop list is returned\n",
    "                    ) "
   ]
  },
  {
   "cell_type": "code",
   "execution_count": 19,
   "metadata": {},
   "outputs": [],
   "source": [
    "# Learn vocabulary and idf\n",
    "# Return term-document matrix\n",
    "tfidf_matrix = tf.fit_transform(heb_verses['t']) "
   ]
  },
  {
   "cell_type": "code",
   "execution_count": 20,
   "metadata": {},
   "outputs": [
    {
     "data": {
      "text/plain": [
       "scipy.sparse.csr.csr_matrix"
      ]
     },
     "execution_count": 20,
     "metadata": {},
     "output_type": "execute_result"
    }
   ],
   "source": [
    "type(linear_kernel)\n",
    "type(tfidf_matrix)"
   ]
  },
  {
   "cell_type": "code",
   "execution_count": 21,
   "metadata": {},
   "outputs": [],
   "source": [
    "# dot product \n",
    "cosine_similarities = linear_kernel(tfidf_matrix, tfidf_matrix) "
   ]
  },
  {
   "cell_type": "code",
   "execution_count": 22,
   "metadata": {},
   "outputs": [
    {
     "data": {
      "text/plain": [
       "numpy.ndarray"
      ]
     },
     "execution_count": 22,
     "metadata": {},
     "output_type": "execute_result"
    }
   ],
   "source": [
    "type(cosine_similarities)"
   ]
  },
  {
   "cell_type": "code",
   "execution_count": 23,
   "metadata": {},
   "outputs": [
    {
     "name": "stdout",
     "output_type": "stream",
     "text": [
      "done!\n"
     ]
    }
   ],
   "source": [
    "results = {}\n",
    "\"\"\"\n",
    "dict where each key is an id in the list of verses and \n",
    "the entry for that key is a ranked list of id's belonging to \n",
    "verses that are most simliar to the key\n",
    "\"\"\"\n",
    "for idx, row in heb_verses.iterrows(): # \n",
    "    similar_indices = cosine_similarities[idx].argsort()[:-100:-1] # numpy.ndarray\n",
    "    #print(type(similar_indices))\n",
    "    similar_rows = [(cosine_similarities[idx][i], heb_verses['id'][i]) for i in similar_indices] # list of \n",
    "    #print(type(similar_rows))\n",
    "    # First row is the row itself, so remove it.\n",
    "    # Each dictionary entry is like: [(1,2), (3,4)], with each tuple being (score, row_id)\n",
    "    results[row['id']] = similar_rows[1:]\n",
    "    \n",
    "print('done!')"
   ]
  },
  {
   "cell_type": "markdown",
   "metadata": {},
   "source": [
    "## Helper Functions"
   ]
  },
  {
   "cell_type": "code",
   "execution_count": 25,
   "metadata": {},
   "outputs": [
    {
     "data": {
      "text/plain": [
       "'Then sang Moses and the children of Israel this song unto the LORD, and spake, saying, I will sing unto the LORD, for he hath triumphed gloriously: the horse and his rider hath he thrown into the sea.'"
      ]
     },
     "execution_count": 25,
     "metadata": {},
     "output_type": "execute_result"
    }
   ],
   "source": [
    "def get_verse_text(id):\n",
    "    \"\"\"\n",
    "    get the words of the verse, given the id\n",
    "    \"\"\"\n",
    "    return heb_verses.loc[heb_verses['id'] == id]['t'].values[0]\n",
    "get_verse_text(my_id)"
   ]
  },
  {
   "cell_type": "code",
   "execution_count": 26,
   "metadata": {},
   "outputs": [
    {
     "data": {
      "text/plain": [
       "11"
      ]
     },
     "execution_count": 26,
     "metadata": {},
     "output_type": "execute_result"
    }
   ],
   "source": [
    "def get_verse_num(verse_id):\n",
    "    return heb_verses.loc[heb_verses['id'] == verse_id]['v'].iloc[0]\n",
    "get_verse_num(1001011)"
   ]
  },
  {
   "cell_type": "code",
   "execution_count": 27,
   "metadata": {},
   "outputs": [
    {
     "data": {
      "text/plain": [
       "2"
      ]
     },
     "execution_count": 27,
     "metadata": {},
     "output_type": "execute_result"
    }
   ],
   "source": [
    "def get_chap(verse_id):\n",
    "    return heb_verses.loc[heb_verses['id'] == verse_id]['c'].iloc[0]\n",
    "get_chap(1002001)"
   ]
  },
  {
   "cell_type": "code",
   "execution_count": 28,
   "metadata": {},
   "outputs": [
    {
     "data": {
      "text/plain": [
       "1001001"
      ]
     },
     "execution_count": 28,
     "metadata": {},
     "output_type": "execute_result"
    }
   ],
   "source": [
    "def cit_to_id(book_num,chap,verse):\n",
    "    \"\"\"\n",
    "    given a book number, chap number, and verse number, produce the verse id\n",
    "    \"\"\" \n",
    "    return book_num*1000000 + chap*1000 + verse\n",
    "cit_to_id(1,1,1)"
   ]
  },
  {
   "cell_type": "code",
   "execution_count": 29,
   "metadata": {},
   "outputs": [
    {
     "data": {
      "text/plain": [
       "{'book_num': 2, 'book_name': 'Exodus', 'chap': 15, 'verse': 1}"
      ]
     },
     "execution_count": 29,
     "metadata": {},
     "output_type": "execute_result"
    }
   ],
   "source": [
    "user"
   ]
  },
  {
   "cell_type": "markdown",
   "metadata": {},
   "source": [
    "## Results"
   ]
  },
  {
   "cell_type": "code",
   "execution_count": 30,
   "metadata": {},
   "outputs": [
    {
     "name": "stdout",
     "output_type": "stream",
     "text": [
      "The top 6 similar verses to Exodus 15:1\n",
      "Then sang Moses and the children of Israel this song unto the LORD, and spake, saying, I will sing unto the LORD, for he hath triumphed gloriously: the horse and his rider hath he thrown into the sea.\n",
      "-------\n",
      "\n",
      "1.) 55% Exodus 15:21\n",
      "\n",
      "And Miriam answered them, Sing ye to the LORD, for he hath triumphed gloriously; the horse and his rider hath he thrown into the sea.\n",
      "\n",
      "2.) 11% Exodus 13:1\n",
      "\n",
      "And the LORD spake unto Moses, saying,\n",
      "\n",
      "3.) 11% Exodus 16:11\n",
      "\n",
      "And the LORD spake unto Moses, saying,\n",
      "\n",
      "4.) 11% Exodus 14:1\n",
      "\n",
      "And the LORD spake unto Moses, saying,\n",
      "\n",
      "5.) 11% Exodus 6:10\n",
      "\n",
      "And the LORD spake unto Moses, saying,\n",
      "\n",
      "6.) 10% Exodus 6:2\n",
      "\n",
      "And God spake unto Moses, and said unto him, I am the LORD:\n"
     ]
    }
   ],
   "source": [
    "# reads the results out of the dictionary\n",
    "def recommend(user, num):\n",
    "    verse_id = cit_to_id(user['book_num'],user['chap'],user['verse'])\n",
    "    print(\"The top {} similar verses to {} {}:{}\\n{}\".format(num, id_to_book(verse_id)['name'], get_chap(verse_id), get_verse_num(verse_id), get_verse_text(verse_id)))\n",
    "    print(\"-------\")\n",
    "    recs = results[verse_id][:num] # the top num items listed in the recomendations for this id\n",
    "    result = []\n",
    "    for rec in recs:        \n",
    "        rank = ''+str(recs.index(rec)+1)+'.)'\n",
    "        citation = rec[1]\n",
    "        book = id_to_book(citation)['name']\n",
    "        chap = get_chap(citation)\n",
    "        verse = get_verse_num(citation)\n",
    "        score = str(int(rec[0]*100))[:2]+ \"%\"\n",
    "        text = get_verse_text(rec[1])\n",
    "        print()\n",
    "        print(rank,score,book,str(chap)+':'+str(verse))\n",
    "        print()\n",
    "        print(text)\n",
    "recommend(user=user, num=6)"
   ]
  },
  {
   "cell_type": "code",
   "execution_count": null,
   "metadata": {},
   "outputs": [],
   "source": []
  },
  {
   "cell_type": "code",
   "execution_count": null,
   "metadata": {},
   "outputs": [],
   "source": []
  },
  {
   "cell_type": "code",
   "execution_count": null,
   "metadata": {},
   "outputs": [],
   "source": []
  },
  {
   "cell_type": "code",
   "execution_count": null,
   "metadata": {},
   "outputs": [],
   "source": []
  },
  {
   "cell_type": "code",
   "execution_count": null,
   "metadata": {},
   "outputs": [],
   "source": [
    "type(ds['t'].iloc[0])"
   ]
  },
  {
   "cell_type": "code",
   "execution_count": null,
   "metadata": {},
   "outputs": [],
   "source": [
    "ds['t'].iloc[0] == 'In the beginning God created the heaven and the earth.'"
   ]
  },
  {
   "cell_type": "code",
   "execution_count": null,
   "metadata": {},
   "outputs": [],
   "source": [
    "ds['t'][0]"
   ]
  },
  {
   "cell_type": "code",
   "execution_count": null,
   "metadata": {},
   "outputs": [],
   "source": [
    "df1 = ds.loc[ds['t']=='In the beginning God created the heaven and the earth.']\n",
    "df1.head()"
   ]
  },
  {
   "cell_type": "code",
   "execution_count": null,
   "metadata": {},
   "outputs": [],
   "source": [
    "ds.t.str.startswith('In')"
   ]
  },
  {
   "cell_type": "code",
   "execution_count": null,
   "metadata": {},
   "outputs": [],
   "source": [
    "# ds[ds.t.str.startswith('In')]"
   ]
  },
  {
   "cell_type": "code",
   "execution_count": null,
   "metadata": {},
   "outputs": [],
   "source": [
    "keyword = input(\"Type the word you'd like to find. Then press enter. Your choice: \")"
   ]
  },
  {
   "cell_type": "code",
   "execution_count": null,
   "metadata": {},
   "outputs": [],
   "source": [
    "keyword"
   ]
  },
  {
   "cell_type": "code",
   "execution_count": null,
   "metadata": {},
   "outputs": [],
   "source": [
    "df_search = ds[ds['t'].str.contains(keyword)]\n",
    "# ds[ds['t'].str.contains(\"song\")]"
   ]
  },
  {
   "cell_type": "code",
   "execution_count": null,
   "metadata": {},
   "outputs": [],
   "source": [
    "df_search.head()"
   ]
  },
  {
   "cell_type": "code",
   "execution_count": null,
   "metadata": {},
   "outputs": [],
   "source": [
    "df_search[:5]"
   ]
  },
  {
   "cell_type": "code",
   "execution_count": null,
   "metadata": {},
   "outputs": [],
   "source": [
    "book = book_id_to_name(citation)\n",
    "chap = get_chap(citation)\n",
    "verse = get_verse_num(citation)\n"
   ]
  },
  {
   "cell_type": "code",
   "execution_count": null,
   "metadata": {},
   "outputs": [],
   "source": [
    "print(\"These verses contain your keyword '{}'.\".format(keyword))\n",
    "print()\n",
    "for i in range(0,5):\n",
    "    print(str(i+1)+'.',df_search.iloc[i]['t'])\n",
    "    print()"
   ]
  },
  {
   "cell_type": "code",
   "execution_count": null,
   "metadata": {},
   "outputs": [],
   "source": []
  },
  {
   "cell_type": "code",
   "execution_count": null,
   "metadata": {},
   "outputs": [],
   "source": []
  },
  {
   "cell_type": "code",
   "execution_count": null,
   "metadata": {},
   "outputs": [],
   "source": []
  },
  {
   "cell_type": "code",
   "execution_count": null,
   "metadata": {},
   "outputs": [],
   "source": []
  },
  {
   "cell_type": "code",
   "execution_count": null,
   "metadata": {},
   "outputs": [],
   "source": []
  },
  {
   "cell_type": "code",
   "execution_count": null,
   "metadata": {},
   "outputs": [],
   "source": []
  }
 ],
 "metadata": {
  "kernelspec": {
   "display_name": "Python 3",
   "language": "python",
   "name": "python3"
  },
  "language_info": {
   "codemirror_mode": {
    "name": "ipython",
    "version": 3
   },
   "file_extension": ".py",
   "mimetype": "text/x-python",
   "name": "python",
   "nbconvert_exporter": "python",
   "pygments_lexer": "ipython3",
   "version": "3.7.3"
  }
 },
 "nbformat": 4,
 "nbformat_minor": 2
}
