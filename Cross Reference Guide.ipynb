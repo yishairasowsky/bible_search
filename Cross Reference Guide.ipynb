{
 "cells": [
  {
   "cell_type": "markdown",
   "metadata": {},
   "source": [
    "# Bible Search:\n",
    "### Find verses similar to yours!"
   ]
  },
  {
   "cell_type": "markdown",
   "metadata": {},
   "source": [
    "Import Libraries"
   ]
  },
  {
   "cell_type": "code",
   "execution_count": 54,
   "metadata": {},
   "outputs": [],
   "source": [
    "from os import listdir # list all files in a directory\n",
    "import pandas as pd # data manipulation"
   ]
  },
  {
   "cell_type": "markdown",
   "metadata": {},
   "source": [
    "First, let us examine what files we have to work with..."
   ]
  },
  {
   "cell_type": "code",
   "execution_count": 55,
   "metadata": {
    "scrolled": true
   },
   "outputs": [
    {
     "data": {
      "text/plain": [
       "['bible_databases-master',\n",
       " 'bible_version_key.csv',\n",
       " 'key_abbreviations_english.csv',\n",
       " 'key_english.csv',\n",
       " 'key_genre_english.csv',\n",
       " 't_asv.csv',\n",
       " 't_bbe.csv',\n",
       " 't_dby.csv',\n",
       " 't_kjv.csv',\n",
       " 't_wbt.csv',\n",
       " 't_web.csv',\n",
       " 't_ylt.csv']"
      ]
     },
     "execution_count": 55,
     "metadata": {},
     "output_type": "execute_result"
    }
   ],
   "source": [
    "PATH = \"bible/\"\n",
    "listdir(PATH)"
   ]
  },
  {
   "cell_type": "markdown",
   "metadata": {},
   "source": [
    "I will use two of these files.\n",
    "1. The `key_english.csv`, which lists and numbers the biblical book names; and \n",
    "2. The `t_kjv.csv`, which lists and numbers all biblical verses."
   ]
  },
  {
   "cell_type": "markdown",
   "metadata": {},
   "source": [
    "Let us list the books of the bible by name and number."
   ]
  },
  {
   "cell_type": "code",
   "execution_count": 56,
   "metadata": {},
   "outputs": [
    {
     "data": {
      "text/html": [
       "<div>\n",
       "<style scoped>\n",
       "    .dataframe tbody tr th:only-of-type {\n",
       "        vertical-align: middle;\n",
       "    }\n",
       "\n",
       "    .dataframe tbody tr th {\n",
       "        vertical-align: top;\n",
       "    }\n",
       "\n",
       "    .dataframe thead th {\n",
       "        text-align: right;\n",
       "    }\n",
       "</style>\n",
       "<table border=\"1\" class=\"dataframe\">\n",
       "  <thead>\n",
       "    <tr style=\"text-align: right;\">\n",
       "      <th></th>\n",
       "      <th>b</th>\n",
       "      <th>n</th>\n",
       "      <th>t</th>\n",
       "      <th>g</th>\n",
       "    </tr>\n",
       "  </thead>\n",
       "  <tbody>\n",
       "    <tr>\n",
       "      <th>21</th>\n",
       "      <td>22</td>\n",
       "      <td>Song of Solomon</td>\n",
       "      <td>OT</td>\n",
       "      <td>3</td>\n",
       "    </tr>\n",
       "    <tr>\n",
       "      <th>23</th>\n",
       "      <td>24</td>\n",
       "      <td>Jeremiah</td>\n",
       "      <td>OT</td>\n",
       "      <td>4</td>\n",
       "    </tr>\n",
       "    <tr>\n",
       "      <th>43</th>\n",
       "      <td>44</td>\n",
       "      <td>Acts</td>\n",
       "      <td>NT</td>\n",
       "      <td>6</td>\n",
       "    </tr>\n",
       "    <tr>\n",
       "      <th>52</th>\n",
       "      <td>53</td>\n",
       "      <td>2 Thessalonians</td>\n",
       "      <td>NT</td>\n",
       "      <td>7</td>\n",
       "    </tr>\n",
       "    <tr>\n",
       "      <th>40</th>\n",
       "      <td>41</td>\n",
       "      <td>Mark</td>\n",
       "      <td>NT</td>\n",
       "      <td>5</td>\n",
       "    </tr>\n",
       "    <tr>\n",
       "      <th>7</th>\n",
       "      <td>8</td>\n",
       "      <td>Ruth</td>\n",
       "      <td>OT</td>\n",
       "      <td>2</td>\n",
       "    </tr>\n",
       "    <tr>\n",
       "      <th>10</th>\n",
       "      <td>11</td>\n",
       "      <td>1 Kings</td>\n",
       "      <td>OT</td>\n",
       "      <td>2</td>\n",
       "    </tr>\n",
       "    <tr>\n",
       "      <th>37</th>\n",
       "      <td>38</td>\n",
       "      <td>Zechariah</td>\n",
       "      <td>OT</td>\n",
       "      <td>4</td>\n",
       "    </tr>\n",
       "    <tr>\n",
       "      <th>6</th>\n",
       "      <td>7</td>\n",
       "      <td>Judges</td>\n",
       "      <td>OT</td>\n",
       "      <td>2</td>\n",
       "    </tr>\n",
       "    <tr>\n",
       "      <th>35</th>\n",
       "      <td>36</td>\n",
       "      <td>Zephaniah</td>\n",
       "      <td>OT</td>\n",
       "      <td>4</td>\n",
       "    </tr>\n",
       "  </tbody>\n",
       "</table>\n",
       "</div>"
      ],
      "text/plain": [
       "     b                n   t  g\n",
       "21  22  Song of Solomon  OT  3\n",
       "23  24         Jeremiah  OT  4\n",
       "43  44             Acts  NT  6\n",
       "52  53  2 Thessalonians  NT  7\n",
       "40  41             Mark  NT  5\n",
       "7    8             Ruth  OT  2\n",
       "10  11          1 Kings  OT  2\n",
       "37  38        Zechariah  OT  4\n",
       "6    7           Judges  OT  2\n",
       "35  36        Zephaniah  OT  4"
      ]
     },
     "execution_count": 56,
     "metadata": {},
     "output_type": "execute_result"
    }
   ],
   "source": [
    "BOOKS = 'key_english.csv' # a constant, the file with book numbers\n",
    "df_books = pd.read_csv(PATH + BOOKS) # load data into dataframe \n",
    "df_books.sample(10) # random sampling of 10 rows from the list of books"
   ]
  },
  {
   "cell_type": "markdown",
   "metadata": {},
   "source": [
    "I see the books are labeled in column `t` as either Old or New Testament.\n",
    "\n",
    "I will work with only verses from the Hebrew Bible (OT)."
   ]
  },
  {
   "cell_type": "markdown",
   "metadata": {},
   "source": [
    "Let us now load the verses into a dataframe. \n",
    "\n",
    "I will use the King James version."
   ]
  },
  {
   "cell_type": "code",
   "execution_count": 77,
   "metadata": {},
   "outputs": [
    {
     "data": {
      "text/html": [
       "<div>\n",
       "<style scoped>\n",
       "    .dataframe tbody tr th:only-of-type {\n",
       "        vertical-align: middle;\n",
       "    }\n",
       "\n",
       "    .dataframe tbody tr th {\n",
       "        vertical-align: top;\n",
       "    }\n",
       "\n",
       "    .dataframe thead th {\n",
       "        text-align: right;\n",
       "    }\n",
       "</style>\n",
       "<table border=\"1\" class=\"dataframe\">\n",
       "  <thead>\n",
       "    <tr style=\"text-align: right;\">\n",
       "      <th></th>\n",
       "      <th>id</th>\n",
       "      <th>b</th>\n",
       "      <th>c</th>\n",
       "      <th>v</th>\n",
       "      <th>t</th>\n",
       "    </tr>\n",
       "  </thead>\n",
       "  <tbody>\n",
       "    <tr>\n",
       "      <th>15181</th>\n",
       "      <td>19078068</td>\n",
       "      <td>19</td>\n",
       "      <td>78</td>\n",
       "      <td>68</td>\n",
       "      <td>But chose the tribe of Judah, the mount Zion w...</td>\n",
       "    </tr>\n",
       "    <tr>\n",
       "      <th>7837</th>\n",
       "      <td>9023027</td>\n",
       "      <td>9</td>\n",
       "      <td>23</td>\n",
       "      <td>27</td>\n",
       "      <td>But there came a messenger unto Saul, saying, ...</td>\n",
       "    </tr>\n",
       "    <tr>\n",
       "      <th>2947</th>\n",
       "      <td>3008030</td>\n",
       "      <td>3</td>\n",
       "      <td>8</td>\n",
       "      <td>30</td>\n",
       "      <td>And Moses took of the anointing oil, and of th...</td>\n",
       "    </tr>\n",
       "    <tr>\n",
       "      <th>28624</th>\n",
       "      <td>46011024</td>\n",
       "      <td>46</td>\n",
       "      <td>11</td>\n",
       "      <td>24</td>\n",
       "      <td>And when he had given thanks, he brake it, and...</td>\n",
       "    </tr>\n",
       "    <tr>\n",
       "      <th>11887</th>\n",
       "      <td>14032012</td>\n",
       "      <td>14</td>\n",
       "      <td>32</td>\n",
       "      <td>12</td>\n",
       "      <td>Hath not the same Hezekiah taken away his high...</td>\n",
       "    </tr>\n",
       "  </tbody>\n",
       "</table>\n",
       "</div>"
      ],
      "text/plain": [
       "             id   b   c   v                                                  t\n",
       "15181  19078068  19  78  68  But chose the tribe of Judah, the mount Zion w...\n",
       "7837    9023027   9  23  27  But there came a messenger unto Saul, saying, ...\n",
       "2947    3008030   3   8  30  And Moses took of the anointing oil, and of th...\n",
       "28624  46011024  46  11  24  And when he had given thanks, he brake it, and...\n",
       "11887  14032012  14  32  12  Hath not the same Hezekiah taken away his high..."
      ]
     },
     "execution_count": 77,
     "metadata": {},
     "output_type": "execute_result"
    }
   ],
   "source": [
    "KING_JAMES = 't_kjv.csv' # a constant, the tail end of the file with the verses of the KJV bible\n",
    "df_verses = pd.read_csv(PATH + KING_JAMES) # load verses into dataframe\n",
    "df_verses.sample(5)"
   ]
  },
  {
   "cell_type": "markdown",
   "metadata": {},
   "source": [
    "I want the verses in which the book, i.e. `df_verses['b']` has a `OT` in the testament column of the list of books, i.e. `df_books['t']`."
   ]
  },
  {
   "cell_type": "code",
   "execution_count": 80,
   "metadata": {},
   "outputs": [],
   "source": [
    "# heb_bib = df_verses.loc[df_books['id']['t'] == 'OT']\n",
    "# heb_bib = df_verses[df_books.iloc[df_verses['id']]=='OT']\n",
    "# type(df_books['t'][0])"
   ]
  },
  {
   "cell_type": "markdown",
   "metadata": {},
   "source": [
    "I cannot figure out how to do that right now...\n",
    "\n",
    "So for the time being, I will just select the number of rows which are in the Hebrew Bible..."
   ]
  },
  {
   "cell_type": "code",
   "execution_count": 81,
   "metadata": {},
   "outputs": [],
   "source": [
    "HEB_VER = 23144 # the num of verses in the hebrew bible"
   ]
  },
  {
   "cell_type": "code",
   "execution_count": 84,
   "metadata": {},
   "outputs": [
    {
     "data": {
      "text/html": [
       "<div>\n",
       "<style scoped>\n",
       "    .dataframe tbody tr th:only-of-type {\n",
       "        vertical-align: middle;\n",
       "    }\n",
       "\n",
       "    .dataframe tbody tr th {\n",
       "        vertical-align: top;\n",
       "    }\n",
       "\n",
       "    .dataframe thead th {\n",
       "        text-align: right;\n",
       "    }\n",
       "</style>\n",
       "<table border=\"1\" class=\"dataframe\">\n",
       "  <thead>\n",
       "    <tr style=\"text-align: right;\">\n",
       "      <th></th>\n",
       "      <th>id</th>\n",
       "      <th>b</th>\n",
       "      <th>c</th>\n",
       "      <th>v</th>\n",
       "      <th>t</th>\n",
       "    </tr>\n",
       "  </thead>\n",
       "  <tbody>\n",
       "    <tr>\n",
       "      <th>23140</th>\n",
       "      <td>39004002</td>\n",
       "      <td>39</td>\n",
       "      <td>4</td>\n",
       "      <td>2</td>\n",
       "      <td>But unto you that fear my name shall the Sun o...</td>\n",
       "    </tr>\n",
       "    <tr>\n",
       "      <th>23141</th>\n",
       "      <td>39004003</td>\n",
       "      <td>39</td>\n",
       "      <td>4</td>\n",
       "      <td>3</td>\n",
       "      <td>And ye shall tread down the wicked; for they s...</td>\n",
       "    </tr>\n",
       "    <tr>\n",
       "      <th>23142</th>\n",
       "      <td>39004004</td>\n",
       "      <td>39</td>\n",
       "      <td>4</td>\n",
       "      <td>4</td>\n",
       "      <td>Remember ye the law of Moses my servant, which...</td>\n",
       "    </tr>\n",
       "    <tr>\n",
       "      <th>23143</th>\n",
       "      <td>39004005</td>\n",
       "      <td>39</td>\n",
       "      <td>4</td>\n",
       "      <td>5</td>\n",
       "      <td>Behold, I will send you Elijah the prophet bef...</td>\n",
       "    </tr>\n",
       "    <tr>\n",
       "      <th>23144</th>\n",
       "      <td>39004006</td>\n",
       "      <td>39</td>\n",
       "      <td>4</td>\n",
       "      <td>6</td>\n",
       "      <td>And he shall turn the heart of the fathers to ...</td>\n",
       "    </tr>\n",
       "  </tbody>\n",
       "</table>\n",
       "</div>"
      ],
      "text/plain": [
       "             id   b  c  v                                                  t\n",
       "23140  39004002  39  4  2  But unto you that fear my name shall the Sun o...\n",
       "23141  39004003  39  4  3  And ye shall tread down the wicked; for they s...\n",
       "23142  39004004  39  4  4  Remember ye the law of Moses my servant, which...\n",
       "23143  39004005  39  4  5  Behold, I will send you Elijah the prophet bef...\n",
       "23144  39004006  39  4  6  And he shall turn the heart of the fathers to ..."
      ]
     },
     "execution_count": 84,
     "metadata": {},
     "output_type": "execute_result"
    }
   ],
   "source": [
    "heb_bib = df_verses[:HEB_VER+1] # must add one, because we start counting index from zero\n",
    "heb_bib.tail() # last verses of last book, i.e. Malachi"
   ]
  },
  {
   "cell_type": "code",
   "execution_count": 217,
   "metadata": {},
   "outputs": [],
   "source": [
    "# book_nums['n'][0] # select the string of a book name"
   ]
  },
  {
   "cell_type": "code",
   "execution_count": null,
   "metadata": {},
   "outputs": [
    {
     "name": "stdout",
     "output_type": "stream",
     "text": [
      "Where do you want to search? Type number, then press enter...\n",
      "\n"
     ]
    }
   ],
   "source": [
    "print('Where do you want to search? Type number, then press enter...\\n')\n",
    "\n",
    "book_num = int(input('Book: '))\n",
    "chap = int(input(\"Chapter: \"))\n",
    "verse = int(input(\"Verse: \"))"
   ]
  },
  {
   "cell_type": "code",
   "execution_count": 219,
   "metadata": {},
   "outputs": [],
   "source": [
    "def book_num_to_name(n):\n",
    "    \"\"\"\n",
    "    given the index, produce the book name\n",
    "    e.g. 1 results in genesis\n",
    "    \"\"\"\n",
    "    return book_nums.loc[ book_nums['b'] == n ]['n'].iloc[0]\n",
    "# book_num_to_name(2)"
   ]
  },
  {
   "cell_type": "code",
   "execution_count": 256,
   "metadata": {},
   "outputs": [],
   "source": [
    "def book_id_to_name(verse_id):\n",
    "    book_num = ds.loc[ds['id'] == verse_id            \n",
    "                     ]['b'].iloc[0]\n",
    "    return book_num_to_name(book_num)\n",
    "# book_id_to_name(1002001)"
   ]
  },
  {
   "cell_type": "code",
   "execution_count": 221,
   "metadata": {},
   "outputs": [],
   "source": [
    "book_choice = book_num_to_name(book_num)"
   ]
  },
  {
   "cell_type": "code",
   "execution_count": 222,
   "metadata": {},
   "outputs": [
    {
     "name": "stdout",
     "output_type": "stream",
     "text": [
      "Wait! Please, double check before proceeding.\n",
      "Your current choice is\n",
      "*** Exodus 15:1 ***\n"
     ]
    }
   ],
   "source": [
    "print(\"Wait! Please, double check before proceeding.\")\n",
    "print(\"Your current choice is\\n*** {} {}:{} ***\".format(book_choice,chap,verse)) # Tell the user which bok he chose"
   ]
  },
  {
   "cell_type": "code",
   "execution_count": 223,
   "metadata": {},
   "outputs": [],
   "source": [
    "my_id = book_num*1000000 + chap*1000 + verse\n",
    "# my_id"
   ]
  },
  {
   "cell_type": "code",
   "execution_count": 224,
   "metadata": {},
   "outputs": [],
   "source": [
    "# my_id = 5012021 # choose sample index for verse\n",
    "my_row = ds.loc[ ds['id'] == my_id ] # select the row of ds in 'id' matches my_id\n",
    "# my_row"
   ]
  },
  {
   "cell_type": "code",
   "execution_count": 225,
   "metadata": {},
   "outputs": [
    {
     "name": "stdout",
     "output_type": "stream",
     "text": [
      "Then sang Moses and the children of Israel this song unto the LORD, and spake, saying, I will sing unto the LORD, for he hath triumphed gloriously: the horse and his rider hath he thrown into the sea.\n"
     ]
    }
   ],
   "source": [
    "my_verse = my_row['t'].iloc[0] #\n",
    "# print(type(my_verse))\n",
    "print(my_verse)"
   ]
  },
  {
   "cell_type": "code",
   "execution_count": 226,
   "metadata": {},
   "outputs": [],
   "source": [
    "# TF IDF stands for \"term frequency–inverse document frequency\"\n",
    "# it is a a numerical statistic that is intended to reflect how important a word is\n",
    "# to a document in a collection or corpus.\n",
    "from sklearn.feature_extraction.text import TfidfVectorizer # Convert a collection of raw documents to a matrix of TF-IDF features\n",
    "from sklearn.metrics.pairwise import linear_kernel"
   ]
  },
  {
   "cell_type": "code",
   "execution_count": 227,
   "metadata": {},
   "outputs": [],
   "source": [
    "tf = TfidfVectorizer(analyzer='word', ngram_range=(1, 3), min_df=0, stop_words='english') # create instance of tf odf vectorizer"
   ]
  },
  {
   "cell_type": "code",
   "execution_count": 228,
   "metadata": {},
   "outputs": [],
   "source": [
    "tfidf_matrix = tf.fit_transform(ds['t']) # Learn vocabulary and idf, return term-document matrix."
   ]
  },
  {
   "cell_type": "code",
   "execution_count": 229,
   "metadata": {},
   "outputs": [],
   "source": [
    "cosine_similarities = linear_kernel(tfidf_matrix, tfidf_matrix) # dot product"
   ]
  },
  {
   "cell_type": "code",
   "execution_count": 230,
   "metadata": {},
   "outputs": [
    {
     "name": "stdout",
     "output_type": "stream",
     "text": [
      "done!\n"
     ]
    }
   ],
   "source": [
    "results = {} # dict where each key is an\n",
    "# id in the list of verses\n",
    "# and the entry for that key is\n",
    "# a list id's for verses that are simliar the the verse of the key\n",
    "\n",
    "for idx, row in ds.iterrows(): # \n",
    "    similar_indices = cosine_similarities[idx].argsort()[:-100:-1] # numpy.ndarray\n",
    "    #print(type(similar_indices))\n",
    "    similar_rows = [(cosine_similarities[idx][i], ds['id'][i]) for i in similar_indices] # list of \n",
    "    #print(type(similar_rows))\n",
    "    # First row is the row itself, so remove it.\n",
    "    # Each dictionary entry is like: [(1,2), (3,4)], with each tuple being (score, row_id)\n",
    "    results[row['id']] = similar_rows[1:]\n",
    "    \n",
    "print('done!')"
   ]
  },
  {
   "cell_type": "code",
   "execution_count": 231,
   "metadata": {},
   "outputs": [],
   "source": [
    "def get_verse_text(id):\n",
    "    \"\"\"\n",
    "    get the words of the verse, given the id\n",
    "    \"\"\"\n",
    "    return ds.loc[ds['id'] == id]['t'].values[0]\n",
    "# get_verse_text(my_id)"
   ]
  },
  {
   "cell_type": "code",
   "execution_count": 232,
   "metadata": {},
   "outputs": [],
   "source": [
    "def get_verse_num(verse_id):\n",
    "    return ds.loc[ds['id'] == verse_id]['v'].iloc[0]\n",
    "# get_verse_num(1001011)"
   ]
  },
  {
   "cell_type": "code",
   "execution_count": 233,
   "metadata": {},
   "outputs": [],
   "source": [
    "def get_chap(verse_id):\n",
    "    return ds.loc[ds['id'] == verse_id]['c'].iloc[0]\n",
    "# get_chap(1002001)"
   ]
  },
  {
   "cell_type": "code",
   "execution_count": 234,
   "metadata": {},
   "outputs": [],
   "source": [
    "def cit_to_id(book_num,chap,verse):\n",
    "    \"\"\"\n",
    "    given a book number, chap number, and verse number, produce the verse id\n",
    "    \"\"\" \n",
    "    return book_num*1000000 + chap*1000 + verse\n",
    "# cit_to_id(1,1,1)"
   ]
  },
  {
   "cell_type": "code",
   "execution_count": 235,
   "metadata": {},
   "outputs": [
    {
     "name": "stdout",
     "output_type": "stream",
     "text": [
      "The top 3 similar verses to Exodus 15:1\n",
      "\n",
      "Then sang Moses and the children of Israel this song unto the LORD, and spake, saying, I will sing unto the LORD, for he hath triumphed gloriously: the horse and his rider hath he thrown into the sea.\n",
      "\n",
      "-------\n",
      "\n",
      "1.) 57% Exodus 15:21\n",
      "\n",
      "And Miriam answered them, Sing ye to the LORD, for he hath triumphed gloriously; the horse and his rider hath he thrown into the sea.\n",
      "\n",
      "2.) 12% Judges 5:3\n",
      "\n",
      "Hear, O ye kings; give ear, O ye princes; I, even I, will sing unto the LORD; I will sing praise to the LORD God of Israel.\n",
      "\n",
      "3.) 11% Exodus 39:42\n",
      "\n",
      "According to all that the LORD commanded Moses, so the children of Israel made all the work.\n"
     ]
    }
   ],
   "source": [
    "# reads the results out of the dictionary\n",
    "def recommend(verse_id, num):\n",
    "    my_info = 0\n",
    "    print(\"The top {} similar verses to {} {}:{}\\n\\n{}\\n\".format(num, book_id_to_name(verse_id), get_chap(verse_id), get_verse_num(verse_id), get_verse_text(verse_id)))\n",
    "    print(\"-------\")\n",
    "    recs = results[verse_id][:num] # the top num items listed in the recomendations for this id\n",
    "    result = []\n",
    "    for rec in recs:        \n",
    "        rank = ''+str(recs.index(rec)+1)+'.)'\n",
    "        citation = rec[1]\n",
    "        book = book_id_to_name(citation)\n",
    "        chap = get_chap(citation)\n",
    "        verse = get_verse_num(citation)\n",
    "        score = str(int(rec[0]*100))[:2]+ \"%\"\n",
    "        text = get_verse_text(rec[1])\n",
    "        print()\n",
    "        print(rank,score,book,str(chap)+':'+str(verse))\n",
    "        print()\n",
    "        print(text)\n",
    "user_input = cit_to_id(book_num,chap,verse)\n",
    "recommend(verse_id=user_input, num=3)"
   ]
  },
  {
   "cell_type": "code",
   "execution_count": 252,
   "metadata": {},
   "outputs": [
    {
     "data": {
      "text/plain": [
       "str"
      ]
     },
     "execution_count": 252,
     "metadata": {},
     "output_type": "execute_result"
    }
   ],
   "source": [
    "type(ds['t'].iloc[0])"
   ]
  },
  {
   "cell_type": "code",
   "execution_count": 254,
   "metadata": {},
   "outputs": [
    {
     "data": {
      "text/plain": [
       "True"
      ]
     },
     "execution_count": 254,
     "metadata": {},
     "output_type": "execute_result"
    }
   ],
   "source": [
    "ds['t'].iloc[0] == 'In the beginning God created the heaven and the earth.'"
   ]
  },
  {
   "cell_type": "code",
   "execution_count": 264,
   "metadata": {},
   "outputs": [
    {
     "data": {
      "text/plain": [
       "'In the beginning God created the heaven and the earth.'"
      ]
     },
     "execution_count": 264,
     "metadata": {},
     "output_type": "execute_result"
    }
   ],
   "source": [
    "ds['t'][0]"
   ]
  },
  {
   "cell_type": "code",
   "execution_count": 275,
   "metadata": {},
   "outputs": [
    {
     "data": {
      "text/html": [
       "<div>\n",
       "<style scoped>\n",
       "    .dataframe tbody tr th:only-of-type {\n",
       "        vertical-align: middle;\n",
       "    }\n",
       "\n",
       "    .dataframe tbody tr th {\n",
       "        vertical-align: top;\n",
       "    }\n",
       "\n",
       "    .dataframe thead th {\n",
       "        text-align: right;\n",
       "    }\n",
       "</style>\n",
       "<table border=\"1\" class=\"dataframe\">\n",
       "  <thead>\n",
       "    <tr style=\"text-align: right;\">\n",
       "      <th></th>\n",
       "      <th>id</th>\n",
       "      <th>b</th>\n",
       "      <th>c</th>\n",
       "      <th>v</th>\n",
       "      <th>t</th>\n",
       "    </tr>\n",
       "  </thead>\n",
       "  <tbody>\n",
       "    <tr>\n",
       "      <th>0</th>\n",
       "      <td>1001001</td>\n",
       "      <td>1</td>\n",
       "      <td>1</td>\n",
       "      <td>1</td>\n",
       "      <td>In the beginning God created the heaven and th...</td>\n",
       "    </tr>\n",
       "  </tbody>\n",
       "</table>\n",
       "</div>"
      ],
      "text/plain": [
       "        id  b  c  v                                                  t\n",
       "0  1001001  1  1  1  In the beginning God created the heaven and th..."
      ]
     },
     "execution_count": 275,
     "metadata": {},
     "output_type": "execute_result"
    }
   ],
   "source": [
    "df1 = ds.loc[ds['t']=='In the beginning God created the heaven and the earth.']\n",
    "df1.head()"
   ]
  },
  {
   "cell_type": "code",
   "execution_count": null,
   "metadata": {},
   "outputs": [],
   "source": [
    "ds.t.str.startswith('In')"
   ]
  },
  {
   "cell_type": "code",
   "execution_count": 302,
   "metadata": {},
   "outputs": [],
   "source": [
    "# ds[ds.t.str.startswith('In')]"
   ]
  },
  {
   "cell_type": "code",
   "execution_count": 300,
   "metadata": {},
   "outputs": [
    {
     "name": "stdout",
     "output_type": "stream",
     "text": [
      "Type the word you'd like to find. Then press enter. Your choice: song\n"
     ]
    }
   ],
   "source": [
    "keyword = input(\"Type the word you'd like to find. Then press enter. Your choice: \")"
   ]
  },
  {
   "cell_type": "code",
   "execution_count": 303,
   "metadata": {},
   "outputs": [
    {
     "data": {
      "text/plain": [
       "'song'"
      ]
     },
     "execution_count": 303,
     "metadata": {},
     "output_type": "execute_result"
    }
   ],
   "source": [
    "keyword"
   ]
  },
  {
   "cell_type": "code",
   "execution_count": 304,
   "metadata": {},
   "outputs": [],
   "source": [
    "df_search = ds[ds['t'].str.contains(keyword)]\n",
    "# ds[ds['t'].str.contains(\"song\")]"
   ]
  },
  {
   "cell_type": "code",
   "execution_count": 305,
   "metadata": {},
   "outputs": [
    {
     "data": {
      "text/html": [
       "<div>\n",
       "<style scoped>\n",
       "    .dataframe tbody tr th:only-of-type {\n",
       "        vertical-align: middle;\n",
       "    }\n",
       "\n",
       "    .dataframe tbody tr th {\n",
       "        vertical-align: top;\n",
       "    }\n",
       "\n",
       "    .dataframe thead th {\n",
       "        text-align: right;\n",
       "    }\n",
       "</style>\n",
       "<table border=\"1\" class=\"dataframe\">\n",
       "  <thead>\n",
       "    <tr style=\"text-align: right;\">\n",
       "      <th></th>\n",
       "      <th>id</th>\n",
       "      <th>b</th>\n",
       "      <th>c</th>\n",
       "      <th>v</th>\n",
       "      <th>t</th>\n",
       "    </tr>\n",
       "  </thead>\n",
       "  <tbody>\n",
       "    <tr>\n",
       "      <th>900</th>\n",
       "      <td>1031027</td>\n",
       "      <td>1</td>\n",
       "      <td>31</td>\n",
       "      <td>27</td>\n",
       "      <td>Wherefore didst thou flee away secretly, and s...</td>\n",
       "    </tr>\n",
       "    <tr>\n",
       "      <th>1921</th>\n",
       "      <td>2015001</td>\n",
       "      <td>2</td>\n",
       "      <td>15</td>\n",
       "      <td>1</td>\n",
       "      <td>Then sang Moses and the children of Israel thi...</td>\n",
       "    </tr>\n",
       "    <tr>\n",
       "      <th>1922</th>\n",
       "      <td>2015002</td>\n",
       "      <td>2</td>\n",
       "      <td>15</td>\n",
       "      <td>2</td>\n",
       "      <td>The LORD is my strength and song, and he is be...</td>\n",
       "    </tr>\n",
       "    <tr>\n",
       "      <th>4357</th>\n",
       "      <td>4021017</td>\n",
       "      <td>4</td>\n",
       "      <td>21</td>\n",
       "      <td>17</td>\n",
       "      <td>Then Israel sang this song, Spring up, O well;...</td>\n",
       "    </tr>\n",
       "    <tr>\n",
       "      <th>5747</th>\n",
       "      <td>5031019</td>\n",
       "      <td>5</td>\n",
       "      <td>31</td>\n",
       "      <td>19</td>\n",
       "      <td>Now therefore write ye this song for you, and ...</td>\n",
       "    </tr>\n",
       "  </tbody>\n",
       "</table>\n",
       "</div>"
      ],
      "text/plain": [
       "           id  b   c   v                                                  t\n",
       "900   1031027  1  31  27  Wherefore didst thou flee away secretly, and s...\n",
       "1921  2015001  2  15   1  Then sang Moses and the children of Israel thi...\n",
       "1922  2015002  2  15   2  The LORD is my strength and song, and he is be...\n",
       "4357  4021017  4  21  17  Then Israel sang this song, Spring up, O well;...\n",
       "5747  5031019  5  31  19  Now therefore write ye this song for you, and ..."
      ]
     },
     "execution_count": 305,
     "metadata": {},
     "output_type": "execute_result"
    }
   ],
   "source": [
    "df_search.head()"
   ]
  },
  {
   "cell_type": "code",
   "execution_count": 306,
   "metadata": {},
   "outputs": [
    {
     "data": {
      "text/html": [
       "<div>\n",
       "<style scoped>\n",
       "    .dataframe tbody tr th:only-of-type {\n",
       "        vertical-align: middle;\n",
       "    }\n",
       "\n",
       "    .dataframe tbody tr th {\n",
       "        vertical-align: top;\n",
       "    }\n",
       "\n",
       "    .dataframe thead th {\n",
       "        text-align: right;\n",
       "    }\n",
       "</style>\n",
       "<table border=\"1\" class=\"dataframe\">\n",
       "  <thead>\n",
       "    <tr style=\"text-align: right;\">\n",
       "      <th></th>\n",
       "      <th>id</th>\n",
       "      <th>b</th>\n",
       "      <th>c</th>\n",
       "      <th>v</th>\n",
       "      <th>t</th>\n",
       "    </tr>\n",
       "  </thead>\n",
       "  <tbody>\n",
       "    <tr>\n",
       "      <th>900</th>\n",
       "      <td>1031027</td>\n",
       "      <td>1</td>\n",
       "      <td>31</td>\n",
       "      <td>27</td>\n",
       "      <td>Wherefore didst thou flee away secretly, and s...</td>\n",
       "    </tr>\n",
       "    <tr>\n",
       "      <th>1921</th>\n",
       "      <td>2015001</td>\n",
       "      <td>2</td>\n",
       "      <td>15</td>\n",
       "      <td>1</td>\n",
       "      <td>Then sang Moses and the children of Israel thi...</td>\n",
       "    </tr>\n",
       "    <tr>\n",
       "      <th>1922</th>\n",
       "      <td>2015002</td>\n",
       "      <td>2</td>\n",
       "      <td>15</td>\n",
       "      <td>2</td>\n",
       "      <td>The LORD is my strength and song, and he is be...</td>\n",
       "    </tr>\n",
       "    <tr>\n",
       "      <th>4357</th>\n",
       "      <td>4021017</td>\n",
       "      <td>4</td>\n",
       "      <td>21</td>\n",
       "      <td>17</td>\n",
       "      <td>Then Israel sang this song, Spring up, O well;...</td>\n",
       "    </tr>\n",
       "    <tr>\n",
       "      <th>5747</th>\n",
       "      <td>5031019</td>\n",
       "      <td>5</td>\n",
       "      <td>31</td>\n",
       "      <td>19</td>\n",
       "      <td>Now therefore write ye this song for you, and ...</td>\n",
       "    </tr>\n",
       "  </tbody>\n",
       "</table>\n",
       "</div>"
      ],
      "text/plain": [
       "           id  b   c   v                                                  t\n",
       "900   1031027  1  31  27  Wherefore didst thou flee away secretly, and s...\n",
       "1921  2015001  2  15   1  Then sang Moses and the children of Israel thi...\n",
       "1922  2015002  2  15   2  The LORD is my strength and song, and he is be...\n",
       "4357  4021017  4  21  17  Then Israel sang this song, Spring up, O well;...\n",
       "5747  5031019  5  31  19  Now therefore write ye this song for you, and ..."
      ]
     },
     "execution_count": 306,
     "metadata": {},
     "output_type": "execute_result"
    }
   ],
   "source": [
    "df_search[:5]"
   ]
  },
  {
   "cell_type": "code",
   "execution_count": null,
   "metadata": {},
   "outputs": [],
   "source": [
    "book = book_id_to_name(citation)\n",
    "chap = get_chap(citation)\n",
    "verse = get_verse_num(citation)\n"
   ]
  },
  {
   "cell_type": "code",
   "execution_count": 315,
   "metadata": {},
   "outputs": [
    {
     "name": "stdout",
     "output_type": "stream",
     "text": [
      "These verses contain your keyword 'song'.\n",
      "\n",
      "1. Wherefore didst thou flee away secretly, and steal away from me; and didst not tell me, that I might have sent thee away with mirth, and with songs, with tabret, and with harp?\n",
      "\n",
      "2. Then sang Moses and the children of Israel this song unto the LORD, and spake, saying, I will sing unto the LORD, for he hath triumphed gloriously: the horse and his rider hath he thrown into the sea.\n",
      "\n",
      "3. The LORD is my strength and song, and he is become my salvation: he is my God, and I will prepare him an habitation; my father's God, and I will exalt him.\n",
      "\n",
      "4. Then Israel sang this song, Spring up, O well; sing ye unto it:\n",
      "\n",
      "5. Now therefore write ye this song for you, and teach it the children of Israel: put it in their mouths, that this song may be a witness for me against the children of Israel.\n",
      "\n"
     ]
    }
   ],
   "source": [
    "print(\"These verses contain your keyword '{}'.\".format(keyword))\n",
    "print()\n",
    "for i in range(0,5):\n",
    "    print(str(i+1)+'.',df_search.iloc[i]['t'])\n",
    "    print()"
   ]
  },
  {
   "cell_type": "code",
   "execution_count": null,
   "metadata": {},
   "outputs": [],
   "source": []
  }
 ],
 "metadata": {
  "kernelspec": {
   "display_name": "Python 3",
   "language": "python",
   "name": "python3"
  }
 },
 "nbformat": 4,
 "nbformat_minor": 2
}
